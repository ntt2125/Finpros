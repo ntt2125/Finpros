{
  "nbformat": 4,
  "nbformat_minor": 0,
  "metadata": {
    "colab": {
      "provenance": []
    },
    "kernelspec": {
      "name": "python3",
      "display_name": "Python 3"
    },
    "language_info": {
      "name": "python"
    },
    "widgets": {
      "application/vnd.jupyter.widget-state+json": {
        "9964642f00164c798240b93ef11c6884": {
          "model_module": "@jupyter-widgets/controls",
          "model_name": "VBoxModel",
          "model_module_version": "1.5.0",
          "state": {
            "_dom_classes": [],
            "_model_module": "@jupyter-widgets/controls",
            "_model_module_version": "1.5.0",
            "_model_name": "VBoxModel",
            "_view_count": null,
            "_view_module": "@jupyter-widgets/controls",
            "_view_module_version": "1.5.0",
            "_view_name": "VBoxView",
            "box_style": "",
            "children": [
              "IPY_MODEL_32122caadc834481a22c1d1d34e656ae",
              "IPY_MODEL_d44591cb1bf042f9bedafc031d3a79f1"
            ],
            "layout": "IPY_MODEL_84fda1efc12d43e4bc77a35a2e8af7e8"
          }
        },
        "32122caadc834481a22c1d1d34e656ae": {
          "model_module": "@jupyter-widgets/controls",
          "model_name": "LabelModel",
          "model_module_version": "1.5.0",
          "state": {
            "_dom_classes": [],
            "_model_module": "@jupyter-widgets/controls",
            "_model_module_version": "1.5.0",
            "_model_name": "LabelModel",
            "_view_count": null,
            "_view_module": "@jupyter-widgets/controls",
            "_view_module_version": "1.5.0",
            "_view_name": "LabelView",
            "description": "",
            "description_tooltip": null,
            "layout": "IPY_MODEL_23c671b06d08455f82c7e90d58faa693",
            "placeholder": "​",
            "style": "IPY_MODEL_97879d2e50ee444b8a7b7178b68d925f",
            "value": "0.034 MB of 0.034 MB uploaded\r"
          }
        },
        "d44591cb1bf042f9bedafc031d3a79f1": {
          "model_module": "@jupyter-widgets/controls",
          "model_name": "FloatProgressModel",
          "model_module_version": "1.5.0",
          "state": {
            "_dom_classes": [],
            "_model_module": "@jupyter-widgets/controls",
            "_model_module_version": "1.5.0",
            "_model_name": "FloatProgressModel",
            "_view_count": null,
            "_view_module": "@jupyter-widgets/controls",
            "_view_module_version": "1.5.0",
            "_view_name": "ProgressView",
            "bar_style": "",
            "description": "",
            "description_tooltip": null,
            "layout": "IPY_MODEL_a6b208071f134da5a082e04f3277d74b",
            "max": 1,
            "min": 0,
            "orientation": "horizontal",
            "style": "IPY_MODEL_2a4262800df6406cba40ac9236a58155",
            "value": 1
          }
        },
        "84fda1efc12d43e4bc77a35a2e8af7e8": {
          "model_module": "@jupyter-widgets/base",
          "model_name": "LayoutModel",
          "model_module_version": "1.2.0",
          "state": {
            "_model_module": "@jupyter-widgets/base",
            "_model_module_version": "1.2.0",
            "_model_name": "LayoutModel",
            "_view_count": null,
            "_view_module": "@jupyter-widgets/base",
            "_view_module_version": "1.2.0",
            "_view_name": "LayoutView",
            "align_content": null,
            "align_items": null,
            "align_self": null,
            "border": null,
            "bottom": null,
            "display": null,
            "flex": null,
            "flex_flow": null,
            "grid_area": null,
            "grid_auto_columns": null,
            "grid_auto_flow": null,
            "grid_auto_rows": null,
            "grid_column": null,
            "grid_gap": null,
            "grid_row": null,
            "grid_template_areas": null,
            "grid_template_columns": null,
            "grid_template_rows": null,
            "height": null,
            "justify_content": null,
            "justify_items": null,
            "left": null,
            "margin": null,
            "max_height": null,
            "max_width": null,
            "min_height": null,
            "min_width": null,
            "object_fit": null,
            "object_position": null,
            "order": null,
            "overflow": null,
            "overflow_x": null,
            "overflow_y": null,
            "padding": null,
            "right": null,
            "top": null,
            "visibility": null,
            "width": null
          }
        },
        "23c671b06d08455f82c7e90d58faa693": {
          "model_module": "@jupyter-widgets/base",
          "model_name": "LayoutModel",
          "model_module_version": "1.2.0",
          "state": {
            "_model_module": "@jupyter-widgets/base",
            "_model_module_version": "1.2.0",
            "_model_name": "LayoutModel",
            "_view_count": null,
            "_view_module": "@jupyter-widgets/base",
            "_view_module_version": "1.2.0",
            "_view_name": "LayoutView",
            "align_content": null,
            "align_items": null,
            "align_self": null,
            "border": null,
            "bottom": null,
            "display": null,
            "flex": null,
            "flex_flow": null,
            "grid_area": null,
            "grid_auto_columns": null,
            "grid_auto_flow": null,
            "grid_auto_rows": null,
            "grid_column": null,
            "grid_gap": null,
            "grid_row": null,
            "grid_template_areas": null,
            "grid_template_columns": null,
            "grid_template_rows": null,
            "height": null,
            "justify_content": null,
            "justify_items": null,
            "left": null,
            "margin": null,
            "max_height": null,
            "max_width": null,
            "min_height": null,
            "min_width": null,
            "object_fit": null,
            "object_position": null,
            "order": null,
            "overflow": null,
            "overflow_x": null,
            "overflow_y": null,
            "padding": null,
            "right": null,
            "top": null,
            "visibility": null,
            "width": null
          }
        },
        "97879d2e50ee444b8a7b7178b68d925f": {
          "model_module": "@jupyter-widgets/controls",
          "model_name": "DescriptionStyleModel",
          "model_module_version": "1.5.0",
          "state": {
            "_model_module": "@jupyter-widgets/controls",
            "_model_module_version": "1.5.0",
            "_model_name": "DescriptionStyleModel",
            "_view_count": null,
            "_view_module": "@jupyter-widgets/base",
            "_view_module_version": "1.2.0",
            "_view_name": "StyleView",
            "description_width": ""
          }
        },
        "a6b208071f134da5a082e04f3277d74b": {
          "model_module": "@jupyter-widgets/base",
          "model_name": "LayoutModel",
          "model_module_version": "1.2.0",
          "state": {
            "_model_module": "@jupyter-widgets/base",
            "_model_module_version": "1.2.0",
            "_model_name": "LayoutModel",
            "_view_count": null,
            "_view_module": "@jupyter-widgets/base",
            "_view_module_version": "1.2.0",
            "_view_name": "LayoutView",
            "align_content": null,
            "align_items": null,
            "align_self": null,
            "border": null,
            "bottom": null,
            "display": null,
            "flex": null,
            "flex_flow": null,
            "grid_area": null,
            "grid_auto_columns": null,
            "grid_auto_flow": null,
            "grid_auto_rows": null,
            "grid_column": null,
            "grid_gap": null,
            "grid_row": null,
            "grid_template_areas": null,
            "grid_template_columns": null,
            "grid_template_rows": null,
            "height": null,
            "justify_content": null,
            "justify_items": null,
            "left": null,
            "margin": null,
            "max_height": null,
            "max_width": null,
            "min_height": null,
            "min_width": null,
            "object_fit": null,
            "object_position": null,
            "order": null,
            "overflow": null,
            "overflow_x": null,
            "overflow_y": null,
            "padding": null,
            "right": null,
            "top": null,
            "visibility": null,
            "width": null
          }
        },
        "2a4262800df6406cba40ac9236a58155": {
          "model_module": "@jupyter-widgets/controls",
          "model_name": "ProgressStyleModel",
          "model_module_version": "1.5.0",
          "state": {
            "_model_module": "@jupyter-widgets/controls",
            "_model_module_version": "1.5.0",
            "_model_name": "ProgressStyleModel",
            "_view_count": null,
            "_view_module": "@jupyter-widgets/base",
            "_view_module_version": "1.2.0",
            "_view_name": "StyleView",
            "bar_color": null,
            "description_width": ""
          }
        }
      }
    }
  },
  "cells": [
    {
      "cell_type": "markdown",
      "source": [
        "# I. Install and import libraries"
      ],
      "metadata": {
        "id": "Z6Uye4drlJ9N"
      }
    },
    {
      "cell_type": "code",
      "source": [
        "!pip install wandb"
      ],
      "metadata": {
        "colab": {
          "base_uri": "https://localhost:8080/"
        },
        "id": "549ZPQ5T74aE",
        "outputId": "984623d4-2d40-4e89-8c44-f9bf7b58316c"
      },
      "execution_count": 1,
      "outputs": [
        {
          "output_type": "stream",
          "name": "stdout",
          "text": [
            "Collecting wandb\n",
            "  Downloading wandb-0.16.4-py3-none-any.whl (2.2 MB)\n",
            "\u001b[2K     \u001b[90m━━━━━━━━━━━━━━━━━━━━━━━━━━━━━━━━━━━━━━━━\u001b[0m \u001b[32m2.2/2.2 MB\u001b[0m \u001b[31m20.2 MB/s\u001b[0m eta \u001b[36m0:00:00\u001b[0m\n",
            "\u001b[?25hRequirement already satisfied: Click!=8.0.0,>=7.1 in /usr/local/lib/python3.10/dist-packages (from wandb) (8.1.7)\n",
            "Collecting GitPython!=3.1.29,>=1.0.0 (from wandb)\n",
            "  Downloading GitPython-3.1.42-py3-none-any.whl (195 kB)\n",
            "\u001b[2K     \u001b[90m━━━━━━━━━━━━━━━━━━━━━━━━━━━━━━━━━━━━━━━━\u001b[0m \u001b[32m195.4/195.4 kB\u001b[0m \u001b[31m21.0 MB/s\u001b[0m eta \u001b[36m0:00:00\u001b[0m\n",
            "\u001b[?25hRequirement already satisfied: requests<3,>=2.0.0 in /usr/local/lib/python3.10/dist-packages (from wandb) (2.31.0)\n",
            "Requirement already satisfied: psutil>=5.0.0 in /usr/local/lib/python3.10/dist-packages (from wandb) (5.9.5)\n",
            "Collecting sentry-sdk>=1.0.0 (from wandb)\n",
            "  Downloading sentry_sdk-1.40.6-py2.py3-none-any.whl (258 kB)\n",
            "\u001b[2K     \u001b[90m━━━━━━━━━━━━━━━━━━━━━━━━━━━━━━━━━━━━━━━━\u001b[0m \u001b[32m258.5/258.5 kB\u001b[0m \u001b[31m24.3 MB/s\u001b[0m eta \u001b[36m0:00:00\u001b[0m\n",
            "\u001b[?25hCollecting docker-pycreds>=0.4.0 (from wandb)\n",
            "  Downloading docker_pycreds-0.4.0-py2.py3-none-any.whl (9.0 kB)\n",
            "Requirement already satisfied: PyYAML in /usr/local/lib/python3.10/dist-packages (from wandb) (6.0.1)\n",
            "Collecting setproctitle (from wandb)\n",
            "  Downloading setproctitle-1.3.3-cp310-cp310-manylinux_2_5_x86_64.manylinux1_x86_64.manylinux_2_17_x86_64.manylinux2014_x86_64.whl (30 kB)\n",
            "Requirement already satisfied: setuptools in /usr/local/lib/python3.10/dist-packages (from wandb) (67.7.2)\n",
            "Requirement already satisfied: appdirs>=1.4.3 in /usr/local/lib/python3.10/dist-packages (from wandb) (1.4.4)\n",
            "Requirement already satisfied: protobuf!=4.21.0,<5,>=3.19.0 in /usr/local/lib/python3.10/dist-packages (from wandb) (3.20.3)\n",
            "Requirement already satisfied: six>=1.4.0 in /usr/local/lib/python3.10/dist-packages (from docker-pycreds>=0.4.0->wandb) (1.16.0)\n",
            "Collecting gitdb<5,>=4.0.1 (from GitPython!=3.1.29,>=1.0.0->wandb)\n",
            "  Downloading gitdb-4.0.11-py3-none-any.whl (62 kB)\n",
            "\u001b[2K     \u001b[90m━━━━━━━━━━━━━━━━━━━━━━━━━━━━━━━━━━━━━━━━\u001b[0m \u001b[32m62.7/62.7 kB\u001b[0m \u001b[31m8.2 MB/s\u001b[0m eta \u001b[36m0:00:00\u001b[0m\n",
            "\u001b[?25hRequirement already satisfied: charset-normalizer<4,>=2 in /usr/local/lib/python3.10/dist-packages (from requests<3,>=2.0.0->wandb) (3.3.2)\n",
            "Requirement already satisfied: idna<4,>=2.5 in /usr/local/lib/python3.10/dist-packages (from requests<3,>=2.0.0->wandb) (3.6)\n",
            "Requirement already satisfied: urllib3<3,>=1.21.1 in /usr/local/lib/python3.10/dist-packages (from requests<3,>=2.0.0->wandb) (2.0.7)\n",
            "Requirement already satisfied: certifi>=2017.4.17 in /usr/local/lib/python3.10/dist-packages (from requests<3,>=2.0.0->wandb) (2024.2.2)\n",
            "Collecting smmap<6,>=3.0.1 (from gitdb<5,>=4.0.1->GitPython!=3.1.29,>=1.0.0->wandb)\n",
            "  Downloading smmap-5.0.1-py3-none-any.whl (24 kB)\n",
            "Installing collected packages: smmap, setproctitle, sentry-sdk, docker-pycreds, gitdb, GitPython, wandb\n",
            "Successfully installed GitPython-3.1.42 docker-pycreds-0.4.0 gitdb-4.0.11 sentry-sdk-1.40.6 setproctitle-1.3.3 smmap-5.0.1 wandb-0.16.4\n"
          ]
        }
      ]
    },
    {
      "cell_type": "code",
      "execution_count": 2,
      "metadata": {
        "id": "slV0OilVkAk9"
      },
      "outputs": [],
      "source": [
        "#Importing the Libraries\n",
        "import pandas as pd\n",
        "import numpy as np\n",
        "%matplotlib inline\n",
        "import matplotlib. pyplot as plt\n",
        "import matplotlib\n",
        "from sklearn. preprocessing import MinMaxScaler\n",
        "from keras. layers import LSTM, Dense, Dropout\n",
        "from sklearn.model_selection import TimeSeriesSplit\n",
        "from sklearn.metrics import mean_squared_error, r2_score, mean_absolute_percentage_error\n",
        "import matplotlib. dates as mandates\n",
        "\n",
        "from sklearn import linear_model\n",
        "from keras. models import Sequential\n",
        "from keras. layers import Dense\n",
        "import keras. backend as K\n",
        "from keras. callbacks import EarlyStopping\n",
        "from keras. optimizers import Adam\n",
        "from keras. models import load_model\n",
        "from keras. layers import LSTM\n",
        "from keras.utils import plot_model\n",
        "\n",
        "import wandb\n",
        "from wandb.keras import WandbCallback, WandbMetricsLogger"
      ]
    },
    {
      "cell_type": "markdown",
      "source": [
        "# II. Prepare data"
      ],
      "metadata": {
        "id": "OX0ILK-gnQ1g"
      }
    },
    {
      "cell_type": "markdown",
      "source": [
        "## 1. Download & Read data"
      ],
      "metadata": {
        "id": "VhxJ9SNJnV6a"
      }
    },
    {
      "cell_type": "code",
      "source": [
        "!git clone https://github.com/ntt2125/Finpros.git"
      ],
      "metadata": {
        "colab": {
          "base_uri": "https://localhost:8080/"
        },
        "id": "9YrtYwQ9nVOf",
        "outputId": "9cfd5446-fe3a-4f97-81a6-7f5e80a86a04"
      },
      "execution_count": 3,
      "outputs": [
        {
          "output_type": "stream",
          "name": "stdout",
          "text": [
            "Cloning into 'Finpros'...\n",
            "remote: Enumerating objects: 12, done.\u001b[K\n",
            "remote: Counting objects: 100% (12/12), done.\u001b[K\n",
            "remote: Compressing objects: 100% (10/10), done.\u001b[K\n",
            "remote: Total 12 (delta 1), reused 8 (delta 1), pack-reused 0\u001b[K\n",
            "Receiving objects: 100% (12/12), 3.05 MiB | 4.80 MiB/s, done.\n",
            "Resolving deltas: 100% (1/1), done.\n"
          ]
        }
      ]
    },
    {
      "cell_type": "code",
      "source": [
        "data_name='MSN'\n",
        "data_path = f'/content/Finpros/data/{data_name}.csv'\n",
        "\n",
        "df = pd.read_csv(data_path, na_values=['null'], index_col='Date/Time', parse_dates=True, infer_datetime_format=True)\n",
        "df.head(10)"
      ],
      "metadata": {
        "colab": {
          "base_uri": "https://localhost:8080/",
          "height": 394
        },
        "id": "2JQnyi1Jnuy-",
        "outputId": "03f1e4ad-e577-45d4-f6e5-fcb569dd6a74"
      },
      "execution_count": 4,
      "outputs": [
        {
          "output_type": "execute_result",
          "data": {
            "text/plain": [
              "                    Ticker  Open  High   Low  Close  Volume  Open Interest\n",
              "Date/Time                                                                 \n",
              "2017-12-25 09:15:00    MSN  73.1  73.1  73.1   73.1    4210              0\n",
              "2017-12-25 09:16:00    MSN  73.0  73.0  73.0   73.0    5000              0\n",
              "2017-12-25 09:18:00    MSN  73.5  73.5  73.5   73.5     210              0\n",
              "2017-12-25 09:20:00    MSN  73.2  73.5  73.1   73.1    2050              0\n",
              "2017-12-25 09:21:00    MSN  73.0  73.0  73.0   73.0    1380              0\n",
              "2017-12-25 09:22:00    MSN  73.0  73.1  73.0   73.1    1600              0\n",
              "2017-12-25 09:23:00    MSN  73.1  73.1  73.1   73.1     910              0\n",
              "2017-12-25 09:27:00    MSN  73.3  73.3  73.3   73.3     120              0\n",
              "2017-12-25 09:30:00    MSN  73.5  73.5  73.5   73.5     520              0\n",
              "2017-12-25 09:36:00    MSN  73.3  73.3  73.3   73.3     780              0"
            ],
            "text/html": [
              "\n",
              "  <div id=\"df-a1098bf6-af51-4a35-b971-debdf77b969d\" class=\"colab-df-container\">\n",
              "    <div>\n",
              "<style scoped>\n",
              "    .dataframe tbody tr th:only-of-type {\n",
              "        vertical-align: middle;\n",
              "    }\n",
              "\n",
              "    .dataframe tbody tr th {\n",
              "        vertical-align: top;\n",
              "    }\n",
              "\n",
              "    .dataframe thead th {\n",
              "        text-align: right;\n",
              "    }\n",
              "</style>\n",
              "<table border=\"1\" class=\"dataframe\">\n",
              "  <thead>\n",
              "    <tr style=\"text-align: right;\">\n",
              "      <th></th>\n",
              "      <th>Ticker</th>\n",
              "      <th>Open</th>\n",
              "      <th>High</th>\n",
              "      <th>Low</th>\n",
              "      <th>Close</th>\n",
              "      <th>Volume</th>\n",
              "      <th>Open Interest</th>\n",
              "    </tr>\n",
              "    <tr>\n",
              "      <th>Date/Time</th>\n",
              "      <th></th>\n",
              "      <th></th>\n",
              "      <th></th>\n",
              "      <th></th>\n",
              "      <th></th>\n",
              "      <th></th>\n",
              "      <th></th>\n",
              "    </tr>\n",
              "  </thead>\n",
              "  <tbody>\n",
              "    <tr>\n",
              "      <th>2017-12-25 09:15:00</th>\n",
              "      <td>MSN</td>\n",
              "      <td>73.1</td>\n",
              "      <td>73.1</td>\n",
              "      <td>73.1</td>\n",
              "      <td>73.1</td>\n",
              "      <td>4210</td>\n",
              "      <td>0</td>\n",
              "    </tr>\n",
              "    <tr>\n",
              "      <th>2017-12-25 09:16:00</th>\n",
              "      <td>MSN</td>\n",
              "      <td>73.0</td>\n",
              "      <td>73.0</td>\n",
              "      <td>73.0</td>\n",
              "      <td>73.0</td>\n",
              "      <td>5000</td>\n",
              "      <td>0</td>\n",
              "    </tr>\n",
              "    <tr>\n",
              "      <th>2017-12-25 09:18:00</th>\n",
              "      <td>MSN</td>\n",
              "      <td>73.5</td>\n",
              "      <td>73.5</td>\n",
              "      <td>73.5</td>\n",
              "      <td>73.5</td>\n",
              "      <td>210</td>\n",
              "      <td>0</td>\n",
              "    </tr>\n",
              "    <tr>\n",
              "      <th>2017-12-25 09:20:00</th>\n",
              "      <td>MSN</td>\n",
              "      <td>73.2</td>\n",
              "      <td>73.5</td>\n",
              "      <td>73.1</td>\n",
              "      <td>73.1</td>\n",
              "      <td>2050</td>\n",
              "      <td>0</td>\n",
              "    </tr>\n",
              "    <tr>\n",
              "      <th>2017-12-25 09:21:00</th>\n",
              "      <td>MSN</td>\n",
              "      <td>73.0</td>\n",
              "      <td>73.0</td>\n",
              "      <td>73.0</td>\n",
              "      <td>73.0</td>\n",
              "      <td>1380</td>\n",
              "      <td>0</td>\n",
              "    </tr>\n",
              "    <tr>\n",
              "      <th>2017-12-25 09:22:00</th>\n",
              "      <td>MSN</td>\n",
              "      <td>73.0</td>\n",
              "      <td>73.1</td>\n",
              "      <td>73.0</td>\n",
              "      <td>73.1</td>\n",
              "      <td>1600</td>\n",
              "      <td>0</td>\n",
              "    </tr>\n",
              "    <tr>\n",
              "      <th>2017-12-25 09:23:00</th>\n",
              "      <td>MSN</td>\n",
              "      <td>73.1</td>\n",
              "      <td>73.1</td>\n",
              "      <td>73.1</td>\n",
              "      <td>73.1</td>\n",
              "      <td>910</td>\n",
              "      <td>0</td>\n",
              "    </tr>\n",
              "    <tr>\n",
              "      <th>2017-12-25 09:27:00</th>\n",
              "      <td>MSN</td>\n",
              "      <td>73.3</td>\n",
              "      <td>73.3</td>\n",
              "      <td>73.3</td>\n",
              "      <td>73.3</td>\n",
              "      <td>120</td>\n",
              "      <td>0</td>\n",
              "    </tr>\n",
              "    <tr>\n",
              "      <th>2017-12-25 09:30:00</th>\n",
              "      <td>MSN</td>\n",
              "      <td>73.5</td>\n",
              "      <td>73.5</td>\n",
              "      <td>73.5</td>\n",
              "      <td>73.5</td>\n",
              "      <td>520</td>\n",
              "      <td>0</td>\n",
              "    </tr>\n",
              "    <tr>\n",
              "      <th>2017-12-25 09:36:00</th>\n",
              "      <td>MSN</td>\n",
              "      <td>73.3</td>\n",
              "      <td>73.3</td>\n",
              "      <td>73.3</td>\n",
              "      <td>73.3</td>\n",
              "      <td>780</td>\n",
              "      <td>0</td>\n",
              "    </tr>\n",
              "  </tbody>\n",
              "</table>\n",
              "</div>\n",
              "    <div class=\"colab-df-buttons\">\n",
              "\n",
              "  <div class=\"colab-df-container\">\n",
              "    <button class=\"colab-df-convert\" onclick=\"convertToInteractive('df-a1098bf6-af51-4a35-b971-debdf77b969d')\"\n",
              "            title=\"Convert this dataframe to an interactive table.\"\n",
              "            style=\"display:none;\">\n",
              "\n",
              "  <svg xmlns=\"http://www.w3.org/2000/svg\" height=\"24px\" viewBox=\"0 -960 960 960\">\n",
              "    <path d=\"M120-120v-720h720v720H120Zm60-500h600v-160H180v160Zm220 220h160v-160H400v160Zm0 220h160v-160H400v160ZM180-400h160v-160H180v160Zm440 0h160v-160H620v160ZM180-180h160v-160H180v160Zm440 0h160v-160H620v160Z\"/>\n",
              "  </svg>\n",
              "    </button>\n",
              "\n",
              "  <style>\n",
              "    .colab-df-container {\n",
              "      display:flex;\n",
              "      gap: 12px;\n",
              "    }\n",
              "\n",
              "    .colab-df-convert {\n",
              "      background-color: #E8F0FE;\n",
              "      border: none;\n",
              "      border-radius: 50%;\n",
              "      cursor: pointer;\n",
              "      display: none;\n",
              "      fill: #1967D2;\n",
              "      height: 32px;\n",
              "      padding: 0 0 0 0;\n",
              "      width: 32px;\n",
              "    }\n",
              "\n",
              "    .colab-df-convert:hover {\n",
              "      background-color: #E2EBFA;\n",
              "      box-shadow: 0px 1px 2px rgba(60, 64, 67, 0.3), 0px 1px 3px 1px rgba(60, 64, 67, 0.15);\n",
              "      fill: #174EA6;\n",
              "    }\n",
              "\n",
              "    .colab-df-buttons div {\n",
              "      margin-bottom: 4px;\n",
              "    }\n",
              "\n",
              "    [theme=dark] .colab-df-convert {\n",
              "      background-color: #3B4455;\n",
              "      fill: #D2E3FC;\n",
              "    }\n",
              "\n",
              "    [theme=dark] .colab-df-convert:hover {\n",
              "      background-color: #434B5C;\n",
              "      box-shadow: 0px 1px 3px 1px rgba(0, 0, 0, 0.15);\n",
              "      filter: drop-shadow(0px 1px 2px rgba(0, 0, 0, 0.3));\n",
              "      fill: #FFFFFF;\n",
              "    }\n",
              "  </style>\n",
              "\n",
              "    <script>\n",
              "      const buttonEl =\n",
              "        document.querySelector('#df-a1098bf6-af51-4a35-b971-debdf77b969d button.colab-df-convert');\n",
              "      buttonEl.style.display =\n",
              "        google.colab.kernel.accessAllowed ? 'block' : 'none';\n",
              "\n",
              "      async function convertToInteractive(key) {\n",
              "        const element = document.querySelector('#df-a1098bf6-af51-4a35-b971-debdf77b969d');\n",
              "        const dataTable =\n",
              "          await google.colab.kernel.invokeFunction('convertToInteractive',\n",
              "                                                    [key], {});\n",
              "        if (!dataTable) return;\n",
              "\n",
              "        const docLinkHtml = 'Like what you see? Visit the ' +\n",
              "          '<a target=\"_blank\" href=https://colab.research.google.com/notebooks/data_table.ipynb>data table notebook</a>'\n",
              "          + ' to learn more about interactive tables.';\n",
              "        element.innerHTML = '';\n",
              "        dataTable['output_type'] = 'display_data';\n",
              "        await google.colab.output.renderOutput(dataTable, element);\n",
              "        const docLink = document.createElement('div');\n",
              "        docLink.innerHTML = docLinkHtml;\n",
              "        element.appendChild(docLink);\n",
              "      }\n",
              "    </script>\n",
              "  </div>\n",
              "\n",
              "\n",
              "<div id=\"df-8646e0af-e8c7-44fc-a3bb-db5f5c9ab710\">\n",
              "  <button class=\"colab-df-quickchart\" onclick=\"quickchart('df-8646e0af-e8c7-44fc-a3bb-db5f5c9ab710')\"\n",
              "            title=\"Suggest charts\"\n",
              "            style=\"display:none;\">\n",
              "\n",
              "<svg xmlns=\"http://www.w3.org/2000/svg\" height=\"24px\"viewBox=\"0 0 24 24\"\n",
              "     width=\"24px\">\n",
              "    <g>\n",
              "        <path d=\"M19 3H5c-1.1 0-2 .9-2 2v14c0 1.1.9 2 2 2h14c1.1 0 2-.9 2-2V5c0-1.1-.9-2-2-2zM9 17H7v-7h2v7zm4 0h-2V7h2v10zm4 0h-2v-4h2v4z\"/>\n",
              "    </g>\n",
              "</svg>\n",
              "  </button>\n",
              "\n",
              "<style>\n",
              "  .colab-df-quickchart {\n",
              "      --bg-color: #E8F0FE;\n",
              "      --fill-color: #1967D2;\n",
              "      --hover-bg-color: #E2EBFA;\n",
              "      --hover-fill-color: #174EA6;\n",
              "      --disabled-fill-color: #AAA;\n",
              "      --disabled-bg-color: #DDD;\n",
              "  }\n",
              "\n",
              "  [theme=dark] .colab-df-quickchart {\n",
              "      --bg-color: #3B4455;\n",
              "      --fill-color: #D2E3FC;\n",
              "      --hover-bg-color: #434B5C;\n",
              "      --hover-fill-color: #FFFFFF;\n",
              "      --disabled-bg-color: #3B4455;\n",
              "      --disabled-fill-color: #666;\n",
              "  }\n",
              "\n",
              "  .colab-df-quickchart {\n",
              "    background-color: var(--bg-color);\n",
              "    border: none;\n",
              "    border-radius: 50%;\n",
              "    cursor: pointer;\n",
              "    display: none;\n",
              "    fill: var(--fill-color);\n",
              "    height: 32px;\n",
              "    padding: 0;\n",
              "    width: 32px;\n",
              "  }\n",
              "\n",
              "  .colab-df-quickchart:hover {\n",
              "    background-color: var(--hover-bg-color);\n",
              "    box-shadow: 0 1px 2px rgba(60, 64, 67, 0.3), 0 1px 3px 1px rgba(60, 64, 67, 0.15);\n",
              "    fill: var(--button-hover-fill-color);\n",
              "  }\n",
              "\n",
              "  .colab-df-quickchart-complete:disabled,\n",
              "  .colab-df-quickchart-complete:disabled:hover {\n",
              "    background-color: var(--disabled-bg-color);\n",
              "    fill: var(--disabled-fill-color);\n",
              "    box-shadow: none;\n",
              "  }\n",
              "\n",
              "  .colab-df-spinner {\n",
              "    border: 2px solid var(--fill-color);\n",
              "    border-color: transparent;\n",
              "    border-bottom-color: var(--fill-color);\n",
              "    animation:\n",
              "      spin 1s steps(1) infinite;\n",
              "  }\n",
              "\n",
              "  @keyframes spin {\n",
              "    0% {\n",
              "      border-color: transparent;\n",
              "      border-bottom-color: var(--fill-color);\n",
              "      border-left-color: var(--fill-color);\n",
              "    }\n",
              "    20% {\n",
              "      border-color: transparent;\n",
              "      border-left-color: var(--fill-color);\n",
              "      border-top-color: var(--fill-color);\n",
              "    }\n",
              "    30% {\n",
              "      border-color: transparent;\n",
              "      border-left-color: var(--fill-color);\n",
              "      border-top-color: var(--fill-color);\n",
              "      border-right-color: var(--fill-color);\n",
              "    }\n",
              "    40% {\n",
              "      border-color: transparent;\n",
              "      border-right-color: var(--fill-color);\n",
              "      border-top-color: var(--fill-color);\n",
              "    }\n",
              "    60% {\n",
              "      border-color: transparent;\n",
              "      border-right-color: var(--fill-color);\n",
              "    }\n",
              "    80% {\n",
              "      border-color: transparent;\n",
              "      border-right-color: var(--fill-color);\n",
              "      border-bottom-color: var(--fill-color);\n",
              "    }\n",
              "    90% {\n",
              "      border-color: transparent;\n",
              "      border-bottom-color: var(--fill-color);\n",
              "    }\n",
              "  }\n",
              "</style>\n",
              "\n",
              "  <script>\n",
              "    async function quickchart(key) {\n",
              "      const quickchartButtonEl =\n",
              "        document.querySelector('#' + key + ' button');\n",
              "      quickchartButtonEl.disabled = true;  // To prevent multiple clicks.\n",
              "      quickchartButtonEl.classList.add('colab-df-spinner');\n",
              "      try {\n",
              "        const charts = await google.colab.kernel.invokeFunction(\n",
              "            'suggestCharts', [key], {});\n",
              "      } catch (error) {\n",
              "        console.error('Error during call to suggestCharts:', error);\n",
              "      }\n",
              "      quickchartButtonEl.classList.remove('colab-df-spinner');\n",
              "      quickchartButtonEl.classList.add('colab-df-quickchart-complete');\n",
              "    }\n",
              "    (() => {\n",
              "      let quickchartButtonEl =\n",
              "        document.querySelector('#df-8646e0af-e8c7-44fc-a3bb-db5f5c9ab710 button');\n",
              "      quickchartButtonEl.style.display =\n",
              "        google.colab.kernel.accessAllowed ? 'block' : 'none';\n",
              "    })();\n",
              "  </script>\n",
              "</div>\n",
              "\n",
              "    </div>\n",
              "  </div>\n"
            ],
            "application/vnd.google.colaboratory.intrinsic+json": {
              "type": "dataframe",
              "variable_name": "df"
            }
          },
          "metadata": {},
          "execution_count": 4
        }
      ]
    },
    {
      "cell_type": "code",
      "source": [
        "# Checking null val\n",
        "print(f\"Dataframe shape: {df.shape}\")\n",
        "print('Null value present: ', df.isnull().values.any())"
      ],
      "metadata": {
        "colab": {
          "base_uri": "https://localhost:8080/"
        },
        "id": "2VUQEkxvovvp",
        "outputId": "f462027c-f86c-4902-cfa6-5071659425ec"
      },
      "execution_count": 5,
      "outputs": [
        {
          "output_type": "stream",
          "name": "stdout",
          "text": [
            "Dataframe shape: (135354, 7)\n",
            "Null value present:  False\n"
          ]
        }
      ]
    },
    {
      "cell_type": "code",
      "source": [
        "df['Close'].plot()"
      ],
      "metadata": {
        "colab": {
          "base_uri": "https://localhost:8080/",
          "height": 450
        },
        "id": "snNmtBNUpaQh",
        "outputId": "2019a1d3-13ba-4af7-de16-65bf1a6f4700"
      },
      "execution_count": 6,
      "outputs": [
        {
          "output_type": "execute_result",
          "data": {
            "text/plain": [
              "<Axes: xlabel='Date/Time'>"
            ]
          },
          "metadata": {},
          "execution_count": 6
        },
        {
          "output_type": "display_data",
          "data": {
            "text/plain": [
              "<Figure size 640x480 with 1 Axes>"
            ],
            "image/png": "[encoded data removed]"
          },
          "metadata": {}
        }
      ]
    },
    {
      "cell_type": "markdown",
      "source": [
        "## 2. Setting target and select feature"
      ],
      "metadata": {
        "id": "gf_MS7-ArkPZ"
      }
    },
    {
      "cell_type": "code",
      "source": [
        "# Set Target Variable\n",
        "output_var = pd.DataFrame(df['Close'])\n",
        "\n",
        "# Select the features\n",
        "features = ['Open', 'High', 'Low', 'Volume']\n"
      ],
      "metadata": {
        "id": "RdbKOhobpsPl"
      },
      "execution_count": 7,
      "outputs": []
    },
    {
      "cell_type": "markdown",
      "source": [
        "## 3. Scaling"
      ],
      "metadata": {
        "id": "InAtCN9MsM7k"
      }
    },
    {
      "cell_type": "code",
      "source": [
        "scaler = MinMaxScaler()\n",
        "feature_transform = scaler.fit_transform(df[features])\n",
        "feature_transform = pd.DataFrame(columns=features, data=feature_transform, index=df.index)\n",
        "feature_transform.head(10)"
      ],
      "metadata": {
        "colab": {
          "base_uri": "https://localhost:8080/",
          "height": 394
        },
        "id": "beAbl0LbsRDw",
        "outputId": "68fac230-5383-4117-8cba-f5c3de7429c7"
      },
      "execution_count": 8,
      "outputs": [
        {
          "output_type": "execute_result",
          "data": {
            "text/plain": [
              "                         Open      High       Low    Volume\n",
              "Date/Time                                                  \n",
              "2017-12-25 09:15:00  0.373072  0.372028  0.374474  0.001272\n",
              "2017-12-25 09:16:00  0.371669  0.370629  0.373072  0.001512\n",
              "2017-12-25 09:18:00  0.378682  0.377622  0.380084  0.000061\n",
              "2017-12-25 09:20:00  0.374474  0.377622  0.374474  0.000618\n",
              "2017-12-25 09:21:00  0.371669  0.370629  0.373072  0.000415\n",
              "2017-12-25 09:22:00  0.371669  0.372028  0.373072  0.000482\n",
              "2017-12-25 09:23:00  0.373072  0.372028  0.374474  0.000273\n",
              "2017-12-25 09:27:00  0.375877  0.374825  0.377279  0.000033\n",
              "2017-12-25 09:30:00  0.378682  0.377622  0.380084  0.000155\n",
              "2017-12-25 09:36:00  0.375877  0.374825  0.377279  0.000233"
            ],
            "text/html": [
              "\n",
              "  <div id=\"df-3518c0e8-7297-41fd-807d-b77f22617d4d\" class=\"colab-df-container\">\n",
              "    <div>\n",
              "<style scoped>\n",
              "    .dataframe tbody tr th:only-of-type {\n",
              "        vertical-align: middle;\n",
              "    }\n",
              "\n",
              "    .dataframe tbody tr th {\n",
              "        vertical-align: top;\n",
              "    }\n",
              "\n",
              "    .dataframe thead th {\n",
              "        text-align: right;\n",
              "    }\n",
              "</style>\n",
              "<table border=\"1\" class=\"dataframe\">\n",
              "  <thead>\n",
              "    <tr style=\"text-align: right;\">\n",
              "      <th></th>\n",
              "      <th>Open</th>\n",
              "      <th>High</th>\n",
              "      <th>Low</th>\n",
              "      <th>Volume</th>\n",
              "    </tr>\n",
              "    <tr>\n",
              "      <th>Date/Time</th>\n",
              "      <th></th>\n",
              "      <th></th>\n",
              "      <th></th>\n",
              "      <th></th>\n",
              "    </tr>\n",
              "  </thead>\n",
              "  <tbody>\n",
              "    <tr>\n",
              "      <th>2017-12-25 09:15:00</th>\n",
              "      <td>0.373072</td>\n",
              "      <td>0.372028</td>\n",
              "      <td>0.374474</td>\n",
              "      <td>0.001272</td>\n",
              "    </tr>\n",
              "    <tr>\n",
              "      <th>2017-12-25 09:16:00</th>\n",
              "      <td>0.371669</td>\n",
              "      <td>0.370629</td>\n",
              "      <td>0.373072</td>\n",
              "      <td>0.001512</td>\n",
              "    </tr>\n",
              "    <tr>\n",
              "      <th>2017-12-25 09:18:00</th>\n",
              "      <td>0.378682</td>\n",
              "      <td>0.377622</td>\n",
              "      <td>0.380084</td>\n",
              "      <td>0.000061</td>\n",
              "    </tr>\n",
              "    <tr>\n",
              "      <th>2017-12-25 09:20:00</th>\n",
              "      <td>0.374474</td>\n",
              "      <td>0.377622</td>\n",
              "      <td>0.374474</td>\n",
              "      <td>0.000618</td>\n",
              "    </tr>\n",
              "    <tr>\n",
              "      <th>2017-12-25 09:21:00</th>\n",
              "      <td>0.371669</td>\n",
              "      <td>0.370629</td>\n",
              "      <td>0.373072</td>\n",
              "      <td>0.000415</td>\n",
              "    </tr>\n",
              "    <tr>\n",
              "      <th>2017-12-25 09:22:00</th>\n",
              "      <td>0.371669</td>\n",
              "      <td>0.372028</td>\n",
              "      <td>0.373072</td>\n",
              "      <td>0.000482</td>\n",
              "    </tr>\n",
              "    <tr>\n",
              "      <th>2017-12-25 09:23:00</th>\n",
              "      <td>0.373072</td>\n",
              "      <td>0.372028</td>\n",
              "      <td>0.374474</td>\n",
              "      <td>0.000273</td>\n",
              "    </tr>\n",
              "    <tr>\n",
              "      <th>2017-12-25 09:27:00</th>\n",
              "      <td>0.375877</td>\n",
              "      <td>0.374825</td>\n",
              "      <td>0.377279</td>\n",
              "      <td>0.000033</td>\n",
              "    </tr>\n",
              "    <tr>\n",
              "      <th>2017-12-25 09:30:00</th>\n",
              "      <td>0.378682</td>\n",
              "      <td>0.377622</td>\n",
              "      <td>0.380084</td>\n",
              "      <td>0.000155</td>\n",
              "    </tr>\n",
              "    <tr>\n",
              "      <th>2017-12-25 09:36:00</th>\n",
              "      <td>0.375877</td>\n",
              "      <td>0.374825</td>\n",
              "      <td>0.377279</td>\n",
              "      <td>0.000233</td>\n",
              "    </tr>\n",
              "  </tbody>\n",
              "</table>\n",
              "</div>\n",
              "    <div class=\"colab-df-buttons\">\n",
              "\n",
              "  <div class=\"colab-df-container\">\n",
              "    <button class=\"colab-df-convert\" onclick=\"convertToInteractive('df-3518c0e8-7297-41fd-807d-b77f22617d4d')\"\n",
              "            title=\"Convert this dataframe to an interactive table.\"\n",
              "            style=\"display:none;\">\n",
              "\n",
              "  <svg xmlns=\"http://www.w3.org/2000/svg\" height=\"24px\" viewBox=\"0 -960 960 960\">\n",
              "    <path d=\"M120-120v-720h720v720H120Zm60-500h600v-160H180v160Zm220 220h160v-160H400v160Zm0 220h160v-160H400v160ZM180-400h160v-160H180v160Zm440 0h160v-160H620v160ZM180-180h160v-160H180v160Zm440 0h160v-160H620v160Z\"/>\n",
              "  </svg>\n",
              "    </button>\n",
              "\n",
              "  <style>\n",
              "    .colab-df-container {\n",
              "      display:flex;\n",
              "      gap: 12px;\n",
              "    }\n",
              "\n",
              "    .colab-df-convert {\n",
              "      background-color: #E8F0FE;\n",
              "      border: none;\n",
              "      border-radius: 50%;\n",
              "      cursor: pointer;\n",
              "      display: none;\n",
              "      fill: #1967D2;\n",
              "      height: 32px;\n",
              "      padding: 0 0 0 0;\n",
              "      width: 32px;\n",
              "    }\n",
              "\n",
              "    .colab-df-convert:hover {\n",
              "      background-color: #E2EBFA;\n",
              "      box-shadow: 0px 1px 2px rgba(60, 64, 67, 0.3), 0px 1px 3px 1px rgba(60, 64, 67, 0.15);\n",
              "      fill: #174EA6;\n",
              "    }\n",
              "\n",
              "    .colab-df-buttons div {\n",
              "      margin-bottom: 4px;\n",
              "    }\n",
              "\n",
              "    [theme=dark] .colab-df-convert {\n",
              "      background-color: #3B4455;\n",
              "      fill: #D2E3FC;\n",
              "    }\n",
              "\n",
              "    [theme=dark] .colab-df-convert:hover {\n",
              "      background-color: #434B5C;\n",
              "      box-shadow: 0px 1px 3px 1px rgba(0, 0, 0, 0.15);\n",
              "      filter: drop-shadow(0px 1px 2px rgba(0, 0, 0, 0.3));\n",
              "      fill: #FFFFFF;\n",
              "    }\n",
              "  </style>\n",
              "\n",
              "    <script>\n",
              "      const buttonEl =\n",
              "        document.querySelector('#df-3518c0e8-7297-41fd-807d-b77f22617d4d button.colab-df-convert');\n",
              "      buttonEl.style.display =\n",
              "        google.colab.kernel.accessAllowed ? 'block' : 'none';\n",
              "\n",
              "      async function convertToInteractive(key) {\n",
              "        const element = document.querySelector('#df-3518c0e8-7297-41fd-807d-b77f22617d4d');\n",
              "        const dataTable =\n",
              "          await google.colab.kernel.invokeFunction('convertToInteractive',\n",
              "                                                    [key], {});\n",
              "        if (!dataTable) return;\n",
              "\n",
              "        const docLinkHtml = 'Like what you see? Visit the ' +\n",
              "          '<a target=\"_blank\" href=https://colab.research.google.com/notebooks/data_table.ipynb>data table notebook</a>'\n",
              "          + ' to learn more about interactive tables.';\n",
              "        element.innerHTML = '';\n",
              "        dataTable['output_type'] = 'display_data';\n",
              "        await google.colab.output.renderOutput(dataTable, element);\n",
              "        const docLink = document.createElement('div');\n",
              "        docLink.innerHTML = docLinkHtml;\n",
              "        element.appendChild(docLink);\n",
              "      }\n",
              "    </script>\n",
              "  </div>\n",
              "\n",
              "\n",
              "<div id=\"df-eab75592-3dab-42a1-8272-bd5961a38437\">\n",
              "  <button class=\"colab-df-quickchart\" onclick=\"quickchart('df-eab75592-3dab-42a1-8272-bd5961a38437')\"\n",
              "            title=\"Suggest charts\"\n",
              "            style=\"display:none;\">\n",
              "\n",
              "<svg xmlns=\"http://www.w3.org/2000/svg\" height=\"24px\"viewBox=\"0 0 24 24\"\n",
              "     width=\"24px\">\n",
              "    <g>\n",
              "        <path d=\"M19 3H5c-1.1 0-2 .9-2 2v14c0 1.1.9 2 2 2h14c1.1 0 2-.9 2-2V5c0-1.1-.9-2-2-2zM9 17H7v-7h2v7zm4 0h-2V7h2v10zm4 0h-2v-4h2v4z\"/>\n",
              "    </g>\n",
              "</svg>\n",
              "  </button>\n",
              "\n",
              "<style>\n",
              "  .colab-df-quickchart {\n",
              "      --bg-color: #E8F0FE;\n",
              "      --fill-color: #1967D2;\n",
              "      --hover-bg-color: #E2EBFA;\n",
              "      --hover-fill-color: #174EA6;\n",
              "      --disabled-fill-color: #AAA;\n",
              "      --disabled-bg-color: #DDD;\n",
              "  }\n",
              "\n",
              "  [theme=dark] .colab-df-quickchart {\n",
              "      --bg-color: #3B4455;\n",
              "      --fill-color: #D2E3FC;\n",
              "      --hover-bg-color: #434B5C;\n",
              "      --hover-fill-color: #FFFFFF;\n",
              "      --disabled-bg-color: #3B4455;\n",
              "      --disabled-fill-color: #666;\n",
              "  }\n",
              "\n",
              "  .colab-df-quickchart {\n",
              "    background-color: var(--bg-color);\n",
              "    border: none;\n",
              "    border-radius: 50%;\n",
              "    cursor: pointer;\n",
              "    display: none;\n",
              "    fill: var(--fill-color);\n",
              "    height: 32px;\n",
              "    padding: 0;\n",
              "    width: 32px;\n",
              "  }\n",
              "\n",
              "  .colab-df-quickchart:hover {\n",
              "    background-color: var(--hover-bg-color);\n",
              "    box-shadow: 0 1px 2px rgba(60, 64, 67, 0.3), 0 1px 3px 1px rgba(60, 64, 67, 0.15);\n",
              "    fill: var(--button-hover-fill-color);\n",
              "  }\n",
              "\n",
              "  .colab-df-quickchart-complete:disabled,\n",
              "  .colab-df-quickchart-complete:disabled:hover {\n",
              "    background-color: var(--disabled-bg-color);\n",
              "    fill: var(--disabled-fill-color);\n",
              "    box-shadow: none;\n",
              "  }\n",
              "\n",
              "  .colab-df-spinner {\n",
              "    border: 2px solid var(--fill-color);\n",
              "    border-color: transparent;\n",
              "    border-bottom-color: var(--fill-color);\n",
              "    animation:\n",
              "      spin 1s steps(1) infinite;\n",
              "  }\n",
              "\n",
              "  @keyframes spin {\n",
              "    0% {\n",
              "      border-color: transparent;\n",
              "      border-bottom-color: var(--fill-color);\n",
              "      border-left-color: var(--fill-color);\n",
              "    }\n",
              "    20% {\n",
              "      border-color: transparent;\n",
              "      border-left-color: var(--fill-color);\n",
              "      border-top-color: var(--fill-color);\n",
              "    }\n",
              "    30% {\n",
              "      border-color: transparent;\n",
              "      border-left-color: var(--fill-color);\n",
              "      border-top-color: var(--fill-color);\n",
              "      border-right-color: var(--fill-color);\n",
              "    }\n",
              "    40% {\n",
              "      border-color: transparent;\n",
              "      border-right-color: var(--fill-color);\n",
              "      border-top-color: var(--fill-color);\n",
              "    }\n",
              "    60% {\n",
              "      border-color: transparent;\n",
              "      border-right-color: var(--fill-color);\n",
              "    }\n",
              "    80% {\n",
              "      border-color: transparent;\n",
              "      border-right-color: var(--fill-color);\n",
              "      border-bottom-color: var(--fill-color);\n",
              "    }\n",
              "    90% {\n",
              "      border-color: transparent;\n",
              "      border-bottom-color: var(--fill-color);\n",
              "    }\n",
              "  }\n",
              "</style>\n",
              "\n",
              "  <script>\n",
              "    async function quickchart(key) {\n",
              "      const quickchartButtonEl =\n",
              "        document.querySelector('#' + key + ' button');\n",
              "      quickchartButtonEl.disabled = true;  // To prevent multiple clicks.\n",
              "      quickchartButtonEl.classList.add('colab-df-spinner');\n",
              "      try {\n",
              "        const charts = await google.colab.kernel.invokeFunction(\n",
              "            'suggestCharts', [key], {});\n",
              "      } catch (error) {\n",
              "        console.error('Error during call to suggestCharts:', error);\n",
              "      }\n",
              "      quickchartButtonEl.classList.remove('colab-df-spinner');\n",
              "      quickchartButtonEl.classList.add('colab-df-quickchart-complete');\n",
              "    }\n",
              "    (() => {\n",
              "      let quickchartButtonEl =\n",
              "        document.querySelector('#df-eab75592-3dab-42a1-8272-bd5961a38437 button');\n",
              "      quickchartButtonEl.style.display =\n",
              "        google.colab.kernel.accessAllowed ? 'block' : 'none';\n",
              "    })();\n",
              "  </script>\n",
              "</div>\n",
              "\n",
              "    </div>\n",
              "  </div>\n"
            ],
            "application/vnd.google.colaboratory.intrinsic+json": {
              "type": "dataframe",
              "variable_name": "feature_transform"
            }
          },
          "metadata": {},
          "execution_count": 8
        }
      ]
    },
    {
      "cell_type": "markdown",
      "source": [
        "## 4. Split data to train, val, test"
      ],
      "metadata": {
        "id": "eCgAfcbntgc8"
      }
    },
    {
      "cell_type": "code",
      "source": [
        "timesplit = TimeSeriesSplit(n_splits=10)\n",
        "for train_index, test_index in timesplit.split(feature_transform):\n",
        "    X_train, X_test = feature_transform[:len(train_index)], feature_transform[len(train_index): (len(train_index)+len(test_index))]\n",
        "    y_train, y_test = output_var[:len(train_index)].values.ravel(), output_var[len(train_index): (len(train_index)+len(test_index))].values.ravel()"
      ],
      "metadata": {
        "id": "Vtes5uu-tmSR"
      },
      "execution_count": 9,
      "outputs": []
    },
    {
      "cell_type": "markdown",
      "source": [
        "## 5. Data Processing"
      ],
      "metadata": {
        "id": "Bpia3j94u7lI"
      }
    },
    {
      "cell_type": "code",
      "source": [
        "train_X = np.array(X_train)\n",
        "test_X = np.array(X_test)\n",
        "X_train = train_X.reshape(X_train.shape[0], 1, X_train.shape[1])\n",
        "X_test = test_X.reshape(X_test.shape[0], 1, X_test.shape[1])\n"
      ],
      "metadata": {
        "id": "U0uHYtPZu_3L"
      },
      "execution_count": 10,
      "outputs": []
    },
    {
      "cell_type": "code",
      "source": [
        "print(X_train.shape)\n",
        "print(X_test.shape)"
      ],
      "metadata": {
        "colab": {
          "base_uri": "https://localhost:8080/"
        },
        "id": "pHw3RZnl0GUW",
        "outputId": "cac87503-fd3a-417f-fc01-470210cd9b34"
      },
      "execution_count": 11,
      "outputs": [
        {
          "output_type": "stream",
          "name": "stdout",
          "text": [
            "(123050, 1, 4)\n",
            "(12304, 1, 4)\n"
          ]
        }
      ]
    },
    {
      "cell_type": "markdown",
      "source": [
        "# III. Config"
      ],
      "metadata": {
        "id": "fQbtRh8I_RVN"
      }
    },
    {
      "cell_type": "code",
      "source": [
        "!wandb login\n",
        "# 4fd3a87393d5814c8c017631bd62012229e273e1"
      ],
      "metadata": {
        "colab": {
          "base_uri": "https://localhost:8080/"
        },
        "id": "JFVmcNA__XND",
        "outputId": "4beb8802-eba2-4627-f24d-b8951a135dc1"
      },
      "execution_count": 12,
      "outputs": [
        {
          "output_type": "stream",
          "name": "stdout",
          "text": [
            "\u001b[34m\u001b[1mwandb\u001b[0m: Logging into wandb.ai. (Learn how to deploy a W&B server locally: https://wandb.me/wandb-server)\n",
            "\u001b[34m\u001b[1mwandb\u001b[0m: You can find your API key in your browser here: https://wandb.ai/authorize\n",
            "\u001b[34m\u001b[1mwandb\u001b[0m: Paste an API key from your profile and hit enter, or press ctrl+c to quit: \n",
            "\u001b[34m\u001b[1mwandb\u001b[0m: Appending key for api.wandb.ai to your netrc file: /root/.netrc\n"
          ]
        }
      ]
    },
    {
      "cell_type": "code",
      "source": [
        "config = {\n",
        "    'epochs': 200,\n",
        "    'batch_size': 256,\n",
        "    'activation': 'relu',\n",
        "    'loss': 'mean_squared_error',\n",
        "    'optimizer': 'adam',\n",
        "    'metics': ['mape']\n",
        "}\n",
        "\n",
        "wandb.init(\n",
        "    project='Finpros',\n",
        "    name=f'model LSTM on stock data {data_name}.csv',\n",
        "    config=config,\n",
        "\n",
        ")"
      ],
      "metadata": {
        "colab": {
          "base_uri": "https://localhost:8080/",
          "height": 143
        },
        "id": "PGHAzCaB_ZdC",
        "outputId": "da4ed22b-f601-479c-f46d-542cca1bdf73"
      },
      "execution_count": 13,
      "outputs": [
        {
          "output_type": "stream",
          "name": "stderr",
          "text": [
            "\u001b[34m\u001b[1mwandb\u001b[0m: Currently logged in as: \u001b[33mnguyentienthong2125\u001b[0m. Use \u001b[1m`wandb login --relogin`\u001b[0m to force relogin\n"
          ]
        },
        {
          "output_type": "display_data",
          "data": {
            "text/plain": [
              "<IPython.core.display.HTML object>"
            ],
            "text/html": [
              "Tracking run with wandb version 0.16.4"
            ]
          },
          "metadata": {}
        },
        {
          "output_type": "display_data",
          "data": {
            "text/plain": [
              "<IPython.core.display.HTML object>"
            ],
            "text/html": [
              "Run data is saved locally in <code>/content/wandb/run-20240307_045428-a1cbiuwi</code>"
            ]
          },
          "metadata": {}
        },
        {
          "output_type": "display_data",
          "data": {
            "text/plain": [
              "<IPython.core.display.HTML object>"
            ],
            "text/html": [
              "Syncing run <strong><a href='https://wandb.ai/nguyentienthong2125/Finpros/runs/a1cbiuwi' target=\"_blank\">model LSTM on stock data MSN.csv</a></strong> to <a href='https://wandb.ai/nguyentienthong2125/Finpros' target=\"_blank\">Weights & Biases</a> (<a href='https://wandb.me/run' target=\"_blank\">docs</a>)<br/>"
            ]
          },
          "metadata": {}
        },
        {
          "output_type": "display_data",
          "data": {
            "text/plain": [
              "<IPython.core.display.HTML object>"
            ],
            "text/html": [
              " View project at <a href='https://wandb.ai/nguyentienthong2125/Finpros' target=\"_blank\">https://wandb.ai/nguyentienthong2125/Finpros</a>"
            ]
          },
          "metadata": {}
        },
        {
          "output_type": "display_data",
          "data": {
            "text/plain": [
              "<IPython.core.display.HTML object>"
            ],
            "text/html": [
              " View run at <a href='https://wandb.ai/nguyentienthong2125/Finpros/runs/a1cbiuwi' target=\"_blank\">https://wandb.ai/nguyentienthong2125/Finpros/runs/a1cbiuwi</a>"
            ]
          },
          "metadata": {}
        },
        {
          "output_type": "execute_result",
          "data": {
            "text/html": [
              "<button onClick=\"this.nextSibling.style.display='block';this.style.display='none';\">Display W&B run</button><iframe src='https://wandb.ai/nguyentienthong2125/Finpros/runs/a1cbiuwi?jupyter=true' style='border:none;width:100%;height:420px;display:none;'></iframe>"
            ],
            "text/plain": [
              "<wandb.sdk.wandb_run.Run at 0x7be113f93850>"
            ]
          },
          "metadata": {},
          "execution_count": 13
        }
      ]
    },
    {
      "cell_type": "markdown",
      "source": [
        "# III. Buil model\n"
      ],
      "metadata": {
        "id": "rg_k0G3Hv16T"
      }
    },
    {
      "cell_type": "code",
      "source": [
        "lstm = Sequential()\n",
        "lstm.add(LSTM(32, input_shape=(1, train_X.shape[1]), activation=config['activation'], return_sequences=False))\n",
        "lstm.add(Dense(1))\n",
        "lstm.compile(loss=config['loss'], optimizer=config['optimizer'], metrics=config['metics'])\n",
        "\n"
      ],
      "metadata": {
        "id": "fC13F5yiv5JV"
      },
      "execution_count": 14,
      "outputs": []
    },
    {
      "cell_type": "code",
      "source": [
        "test_X.shape[1]"
      ],
      "metadata": {
        "colab": {
          "base_uri": "https://localhost:8080/"
        },
        "id": "UJDhi1GPFYib",
        "outputId": "393fc4b7-0a12-418f-e591-5e6bca056c9b"
      },
      "execution_count": 15,
      "outputs": [
        {
          "output_type": "execute_result",
          "data": {
            "text/plain": [
              "4"
            ]
          },
          "metadata": {},
          "execution_count": 15
        }
      ]
    },
    {
      "cell_type": "markdown",
      "source": [
        "## IV. Training"
      ],
      "metadata": {
        "id": "VGpAwBqhwaDG"
      }
    },
    {
      "cell_type": "code",
      "source": [
        "history=lstm.fit(X_train, y_train,\n",
        "                 validation_data=(X_test, y_test),\n",
        "                 epochs=config['epochs'],\n",
        "                 batch_size=config['batch_size'],\n",
        "                 verbose=1,\n",
        "                 shuffle=False,\n",
        "                 callbacks=[WandbMetricsLogger()])\n",
        "wandb.finish()"
      ],
      "metadata": {
        "colab": {
          "base_uri": "https://localhost:8080/",
          "height": 1000,
          "referenced_widgets": [
            "9964642f00164c798240b93ef11c6884",
            "32122caadc834481a22c1d1d34e656ae",
            "d44591cb1bf042f9bedafc031d3a79f1",
            "84fda1efc12d43e4bc77a35a2e8af7e8",
            "23c671b06d08455f82c7e90d58faa693",
            "97879d2e50ee444b8a7b7178b68d925f",
            "a6b208071f134da5a082e04f3277d74b",
            "2a4262800df6406cba40ac9236a58155"
          ]
        },
        "id": "SbDOxhfOwfty",
        "outputId": "c5cae804-1b54-48af-b932-f15b226bda2c"
      },
      "execution_count": 16,
      "outputs": [
        {
          "output_type": "stream",
          "name": "stdout",
          "text": [
            "Epoch 1/200\n",
            "481/481 [==============================] - 5s 6ms/step - loss: 5516.1763 - mape: 96.9018 - val_loss: 5073.9507 - val_mape: 88.3626\n",
            "Epoch 2/200\n",
            "481/481 [==============================] - 2s 4ms/step - loss: 2406.1501 - mape: 61.4420 - val_loss: 666.2842 - val_mape: 32.7761\n",
            "Epoch 3/200\n",
            "481/481 [==============================] - 2s 4ms/step - loss: 215.0311 - mape: 19.9182 - val_loss: 36.8042 - val_mape: 7.0451\n",
            "Epoch 4/200\n",
            "481/481 [==============================] - 2s 4ms/step - loss: 61.3451 - mape: 9.8733 - val_loss: 82.2972 - val_mape: 10.6237\n",
            "Epoch 5/200\n",
            "481/481 [==============================] - 2s 4ms/step - loss: 52.0491 - mape: 8.6399 - val_loss: 80.7543 - val_mape: 10.4147\n",
            "Epoch 6/200\n",
            "481/481 [==============================] - 2s 4ms/step - loss: 36.3792 - mape: 7.0147 - val_loss: 71.7556 - val_mape: 9.7360\n",
            "Epoch 7/200\n",
            "481/481 [==============================] - 2s 5ms/step - loss: 23.8689 - mape: 5.4890 - val_loss: 59.4534 - val_mape: 8.8098\n",
            "Epoch 8/200\n",
            "481/481 [==============================] - 2s 5ms/step - loss: 14.7560 - mape: 4.1352 - val_loss: 45.8752 - val_mape: 7.7207\n",
            "Epoch 9/200\n",
            "481/481 [==============================] - 2s 3ms/step - loss: 8.4703 - mape: 2.9853 - val_loss: 33.1492 - val_mape: 6.5621\n",
            "Epoch 10/200\n",
            "481/481 [==============================] - 2s 3ms/step - loss: 4.5790 - mape: 2.1028 - val_loss: 21.7131 - val_mape: 5.3180\n",
            "Epoch 11/200\n",
            "481/481 [==============================] - 2s 3ms/step - loss: 2.3077 - mape: 1.4231 - val_loss: 13.0084 - val_mape: 4.1186\n",
            "Epoch 12/200\n",
            "481/481 [==============================] - 2s 3ms/step - loss: 1.1326 - mape: 0.9551 - val_loss: 7.3089 - val_mape: 3.0776\n",
            "Epoch 13/200\n",
            "481/481 [==============================] - 2s 3ms/step - loss: 0.6459 - mape: 0.7712 - val_loss: 3.8447 - val_mape: 2.2010\n",
            "Epoch 14/200\n",
            "481/481 [==============================] - 2s 4ms/step - loss: 0.4458 - mape: 0.6687 - val_loss: 2.0741 - val_mape: 1.5629\n",
            "Epoch 15/200\n",
            "481/481 [==============================] - 2s 5ms/step - loss: 0.3557 - mape: 0.5879 - val_loss: 1.2142 - val_mape: 1.1293\n",
            "Epoch 16/200\n",
            "481/481 [==============================] - 2s 3ms/step - loss: 0.3023 - mape: 0.5202 - val_loss: 0.7727 - val_mape: 0.8382\n",
            "Epoch 17/200\n",
            "481/481 [==============================] - 2s 3ms/step - loss: 0.2624 - mape: 0.4683 - val_loss: 0.5302 - val_mape: 0.6417\n",
            "Epoch 18/200\n",
            "481/481 [==============================] - 2s 4ms/step - loss: 0.2308 - mape: 0.4301 - val_loss: 0.3982 - val_mape: 0.5028\n",
            "Epoch 19/200\n",
            "481/481 [==============================] - 2s 3ms/step - loss: 0.2090 - mape: 0.4020 - val_loss: 0.3297 - val_mape: 0.4223\n",
            "Epoch 20/200\n",
            "481/481 [==============================] - 2s 4ms/step - loss: 0.1929 - mape: 0.3798 - val_loss: 0.2886 - val_mape: 0.3903\n",
            "Epoch 21/200\n",
            "481/481 [==============================] - 2s 4ms/step - loss: 0.1794 - mape: 0.3611 - val_loss: 0.2568 - val_mape: 0.3751\n",
            "Epoch 22/200\n",
            "481/481 [==============================] - 2s 5ms/step - loss: 0.1664 - mape: 0.3439 - val_loss: 0.2282 - val_mape: 0.3623\n",
            "Epoch 23/200\n",
            "481/481 [==============================] - 2s 4ms/step - loss: 0.1529 - mape: 0.3277 - val_loss: 0.2037 - val_mape: 0.3519\n",
            "Epoch 24/200\n",
            "481/481 [==============================] - 2s 4ms/step - loss: 0.1399 - mape: 0.3124 - val_loss: 0.1821 - val_mape: 0.3443\n",
            "Epoch 25/200\n",
            "481/481 [==============================] - 2s 4ms/step - loss: 0.1279 - mape: 0.2981 - val_loss: 0.1652 - val_mape: 0.3403\n",
            "Epoch 26/200\n",
            "481/481 [==============================] - 2s 3ms/step - loss: 0.1167 - mape: 0.2844 - val_loss: 0.1505 - val_mape: 0.3354\n",
            "Epoch 27/200\n",
            "481/481 [==============================] - 2s 3ms/step - loss: 0.1069 - mape: 0.2724 - val_loss: 0.1381 - val_mape: 0.3287\n",
            "Epoch 28/200\n",
            "481/481 [==============================] - 2s 4ms/step - loss: 0.0984 - mape: 0.2619 - val_loss: 0.1279 - val_mape: 0.3202\n",
            "Epoch 29/200\n",
            "481/481 [==============================] - 2s 5ms/step - loss: 0.0910 - mape: 0.2523 - val_loss: 0.1198 - val_mape: 0.3101\n",
            "Epoch 30/200\n",
            "481/481 [==============================] - 2s 3ms/step - loss: 0.0848 - mape: 0.2437 - val_loss: 0.1137 - val_mape: 0.2994\n",
            "Epoch 31/200\n",
            "481/481 [==============================] - 2s 3ms/step - loss: 0.0796 - mape: 0.2363 - val_loss: 0.1091 - val_mape: 0.2888\n",
            "Epoch 32/200\n",
            "481/481 [==============================] - 2s 3ms/step - loss: 0.0749 - mape: 0.2291 - val_loss: 0.1058 - val_mape: 0.2793\n",
            "Epoch 33/200\n",
            "481/481 [==============================] - 2s 3ms/step - loss: 0.0708 - mape: 0.2223 - val_loss: 0.1035 - val_mape: 0.2712\n",
            "Epoch 34/200\n",
            "481/481 [==============================] - 2s 3ms/step - loss: 0.0671 - mape: 0.2159 - val_loss: 0.1018 - val_mape: 0.2645\n",
            "Epoch 35/200\n",
            "481/481 [==============================] - 2s 4ms/step - loss: 0.0637 - mape: 0.2100 - val_loss: 0.1005 - val_mape: 0.2599\n",
            "Epoch 36/200\n",
            "481/481 [==============================] - 2s 5ms/step - loss: 0.0606 - mape: 0.2043 - val_loss: 0.0997 - val_mape: 0.2571\n",
            "Epoch 37/200\n",
            "481/481 [==============================] - 2s 4ms/step - loss: 0.0577 - mape: 0.1990 - val_loss: 0.0992 - val_mape: 0.2556\n",
            "Epoch 38/200\n",
            "481/481 [==============================] - 2s 4ms/step - loss: 0.0550 - mape: 0.1941 - val_loss: 0.0989 - val_mape: 0.2550\n",
            "Epoch 39/200\n",
            "481/481 [==============================] - 2s 4ms/step - loss: 0.0524 - mape: 0.1895 - val_loss: 0.0986 - val_mape: 0.2549\n",
            "Epoch 40/200\n",
            "481/481 [==============================] - 2s 4ms/step - loss: 0.0500 - mape: 0.1854 - val_loss: 0.0984 - val_mape: 0.2549\n",
            "Epoch 41/200\n",
            "481/481 [==============================] - 2s 3ms/step - loss: 0.0477 - mape: 0.1815 - val_loss: 0.0979 - val_mape: 0.2548\n",
            "Epoch 42/200\n",
            "481/481 [==============================] - 2s 5ms/step - loss: 0.0455 - mape: 0.1780 - val_loss: 0.0973 - val_mape: 0.2541\n",
            "Epoch 43/200\n",
            "481/481 [==============================] - 2s 5ms/step - loss: 0.0434 - mape: 0.1747 - val_loss: 0.0963 - val_mape: 0.2526\n",
            "Epoch 44/200\n",
            "481/481 [==============================] - 2s 3ms/step - loss: 0.0414 - mape: 0.1716 - val_loss: 0.0951 - val_mape: 0.2505\n",
            "Epoch 45/200\n",
            "481/481 [==============================] - 2s 3ms/step - loss: 0.0395 - mape: 0.1686 - val_loss: 0.0936 - val_mape: 0.2478\n",
            "Epoch 46/200\n",
            "481/481 [==============================] - 2s 4ms/step - loss: 0.0377 - mape: 0.1657 - val_loss: 0.0921 - val_mape: 0.2447\n",
            "Epoch 47/200\n",
            "481/481 [==============================] - 2s 3ms/step - loss: 0.0360 - mape: 0.1629 - val_loss: 0.0906 - val_mape: 0.2416\n",
            "Epoch 48/200\n",
            "481/481 [==============================] - 2s 4ms/step - loss: 0.0344 - mape: 0.1601 - val_loss: 0.0893 - val_mape: 0.2388\n",
            "Epoch 49/200\n",
            "481/481 [==============================] - 2s 5ms/step - loss: 0.0329 - mape: 0.1574 - val_loss: 0.0881 - val_mape: 0.2363\n",
            "Epoch 50/200\n",
            "481/481 [==============================] - 2s 5ms/step - loss: 0.0316 - mape: 0.1546 - val_loss: 0.0870 - val_mape: 0.2343\n",
            "Epoch 51/200\n",
            "481/481 [==============================] - 2s 4ms/step - loss: 0.0304 - mape: 0.1520 - val_loss: 0.0862 - val_mape: 0.2326\n",
            "Epoch 52/200\n",
            "481/481 [==============================] - 2s 3ms/step - loss: 0.0293 - mape: 0.1494 - val_loss: 0.0855 - val_mape: 0.2312\n",
            "Epoch 53/200\n",
            "481/481 [==============================] - 2s 4ms/step - loss: 0.0284 - mape: 0.1469 - val_loss: 0.0849 - val_mape: 0.2301\n",
            "Epoch 54/200\n",
            "481/481 [==============================] - 2s 3ms/step - loss: 0.0275 - mape: 0.1446 - val_loss: 0.0845 - val_mape: 0.2292\n",
            "Epoch 55/200\n",
            "481/481 [==============================] - 2s 4ms/step - loss: 0.0268 - mape: 0.1423 - val_loss: 0.0841 - val_mape: 0.2285\n",
            "Epoch 56/200\n",
            "481/481 [==============================] - 2s 5ms/step - loss: 0.0261 - mape: 0.1400 - val_loss: 0.0837 - val_mape: 0.2279\n",
            "Epoch 57/200\n",
            "481/481 [==============================] - 2s 4ms/step - loss: 0.0254 - mape: 0.1378 - val_loss: 0.0833 - val_mape: 0.2274\n",
            "Epoch 58/200\n",
            "481/481 [==============================] - 2s 3ms/step - loss: 0.0248 - mape: 0.1356 - val_loss: 0.0830 - val_mape: 0.2270\n",
            "Epoch 59/200\n",
            "481/481 [==============================] - 2s 4ms/step - loss: 0.0243 - mape: 0.1335 - val_loss: 0.0827 - val_mape: 0.2266\n",
            "Epoch 60/200\n",
            "481/481 [==============================] - 2s 4ms/step - loss: 0.0238 - mape: 0.1315 - val_loss: 0.0823 - val_mape: 0.2261\n",
            "Epoch 61/200\n",
            "481/481 [==============================] - 2s 3ms/step - loss: 0.0233 - mape: 0.1296 - val_loss: 0.0820 - val_mape: 0.2257\n",
            "Epoch 62/200\n",
            "481/481 [==============================] - 2s 3ms/step - loss: 0.0228 - mape: 0.1277 - val_loss: 0.0817 - val_mape: 0.2252\n",
            "Epoch 63/200\n",
            "481/481 [==============================] - 2s 5ms/step - loss: 0.0224 - mape: 0.1260 - val_loss: 0.0814 - val_mape: 0.2247\n",
            "Epoch 64/200\n",
            "481/481 [==============================] - 2s 4ms/step - loss: 0.0220 - mape: 0.1243 - val_loss: 0.0810 - val_mape: 0.2241\n",
            "Epoch 65/200\n",
            "481/481 [==============================] - 2s 3ms/step - loss: 0.0216 - mape: 0.1227 - val_loss: 0.0807 - val_mape: 0.2236\n",
            "Epoch 66/200\n",
            "481/481 [==============================] - 2s 3ms/step - loss: 0.0212 - mape: 0.1211 - val_loss: 0.0805 - val_mape: 0.2231\n",
            "Epoch 67/200\n",
            "481/481 [==============================] - 2s 3ms/step - loss: 0.0209 - mape: 0.1197 - val_loss: 0.0802 - val_mape: 0.2227\n",
            "Epoch 68/200\n",
            "481/481 [==============================] - 2s 4ms/step - loss: 0.0205 - mape: 0.1183 - val_loss: 0.0799 - val_mape: 0.2223\n",
            "Epoch 69/200\n",
            "481/481 [==============================] - 2s 3ms/step - loss: 0.0202 - mape: 0.1170 - val_loss: 0.0797 - val_mape: 0.2220\n",
            "Epoch 70/200\n",
            "481/481 [==============================] - 3s 5ms/step - loss: 0.0199 - mape: 0.1158 - val_loss: 0.0795 - val_mape: 0.2217\n",
            "Epoch 71/200\n",
            "481/481 [==============================] - 2s 4ms/step - loss: 0.0197 - mape: 0.1147 - val_loss: 0.0793 - val_mape: 0.2215\n",
            "Epoch 72/200\n",
            "481/481 [==============================] - 2s 4ms/step - loss: 0.0194 - mape: 0.1136 - val_loss: 0.0792 - val_mape: 0.2214\n",
            "Epoch 73/200\n",
            "481/481 [==============================] - 2s 3ms/step - loss: 0.0192 - mape: 0.1126 - val_loss: 0.0791 - val_mape: 0.2214\n",
            "Epoch 74/200\n",
            "481/481 [==============================] - 2s 4ms/step - loss: 0.0189 - mape: 0.1116 - val_loss: 0.0790 - val_mape: 0.2215\n",
            "Epoch 75/200\n",
            "481/481 [==============================] - 2s 3ms/step - loss: 0.0187 - mape: 0.1107 - val_loss: 0.0790 - val_mape: 0.2217\n",
            "Epoch 76/200\n",
            "481/481 [==============================] - 2s 4ms/step - loss: 0.0185 - mape: 0.1098 - val_loss: 0.0789 - val_mape: 0.2220\n",
            "Epoch 77/200\n",
            "481/481 [==============================] - 3s 6ms/step - loss: 0.0183 - mape: 0.1090 - val_loss: 0.0789 - val_mape: 0.2223\n",
            "Epoch 78/200\n",
            "481/481 [==============================] - 2s 4ms/step - loss: 0.0182 - mape: 0.1082 - val_loss: 0.0789 - val_mape: 0.2228\n",
            "Epoch 79/200\n",
            "481/481 [==============================] - 2s 3ms/step - loss: 0.0180 - mape: 0.1075 - val_loss: 0.0790 - val_mape: 0.2233\n",
            "Epoch 80/200\n",
            "481/481 [==============================] - 2s 4ms/step - loss: 0.0178 - mape: 0.1069 - val_loss: 0.0791 - val_mape: 0.2239\n",
            "Epoch 81/200\n",
            "481/481 [==============================] - 2s 4ms/step - loss: 0.0177 - mape: 0.1063 - val_loss: 0.0792 - val_mape: 0.2245\n",
            "Epoch 82/200\n",
            "481/481 [==============================] - 2s 3ms/step - loss: 0.0176 - mape: 0.1057 - val_loss: 0.0793 - val_mape: 0.2252\n",
            "Epoch 83/200\n",
            "481/481 [==============================] - 2s 4ms/step - loss: 0.0174 - mape: 0.1051 - val_loss: 0.0794 - val_mape: 0.2259\n",
            "Epoch 84/200\n",
            "481/481 [==============================] - 3s 6ms/step - loss: 0.0173 - mape: 0.1046 - val_loss: 0.0795 - val_mape: 0.2267\n",
            "Epoch 85/200\n",
            "481/481 [==============================] - 2s 4ms/step - loss: 0.0172 - mape: 0.1041 - val_loss: 0.0796 - val_mape: 0.2275\n",
            "Epoch 86/200\n",
            "481/481 [==============================] - 2s 4ms/step - loss: 0.0171 - mape: 0.1036 - val_loss: 0.0798 - val_mape: 0.2282\n",
            "Epoch 87/200\n",
            "481/481 [==============================] - 2s 3ms/step - loss: 0.0170 - mape: 0.1032 - val_loss: 0.0799 - val_mape: 0.2290\n",
            "Epoch 88/200\n",
            "481/481 [==============================] - 2s 4ms/step - loss: 0.0169 - mape: 0.1028 - val_loss: 0.0801 - val_mape: 0.2297\n",
            "Epoch 89/200\n",
            "481/481 [==============================] - 2s 3ms/step - loss: 0.0168 - mape: 0.1024 - val_loss: 0.0802 - val_mape: 0.2304\n",
            "Epoch 90/200\n",
            "481/481 [==============================] - 2s 4ms/step - loss: 0.0167 - mape: 0.1020 - val_loss: 0.0803 - val_mape: 0.2311\n",
            "Epoch 91/200\n",
            "481/481 [==============================] - 3s 5ms/step - loss: 0.0166 - mape: 0.1017 - val_loss: 0.0805 - val_mape: 0.2318\n",
            "Epoch 92/200\n",
            "481/481 [==============================] - 2s 4ms/step - loss: 0.0165 - mape: 0.1013 - val_loss: 0.0806 - val_mape: 0.2324\n",
            "Epoch 93/200\n",
            "481/481 [==============================] - 2s 3ms/step - loss: 0.0165 - mape: 0.1010 - val_loss: 0.0807 - val_mape: 0.2329\n",
            "Epoch 94/200\n",
            "481/481 [==============================] - 2s 4ms/step - loss: 0.0164 - mape: 0.1007 - val_loss: 0.0808 - val_mape: 0.2335\n",
            "Epoch 95/200\n",
            "481/481 [==============================] - 2s 3ms/step - loss: 0.0163 - mape: 0.1004 - val_loss: 0.0809 - val_mape: 0.2339\n",
            "Epoch 96/200\n",
            "481/481 [==============================] - 2s 3ms/step - loss: 0.0162 - mape: 0.1001 - val_loss: 0.0810 - val_mape: 0.2344\n",
            "Epoch 97/200\n",
            "481/481 [==============================] - 2s 4ms/step - loss: 0.0162 - mape: 0.0998 - val_loss: 0.0811 - val_mape: 0.2348\n",
            "Epoch 98/200\n",
            "481/481 [==============================] - 3s 5ms/step - loss: 0.0161 - mape: 0.0995 - val_loss: 0.0811 - val_mape: 0.2351\n",
            "Epoch 99/200\n",
            "481/481 [==============================] - 2s 4ms/step - loss: 0.0160 - mape: 0.0992 - val_loss: 0.0812 - val_mape: 0.2355\n",
            "Epoch 100/200\n",
            "481/481 [==============================] - 2s 3ms/step - loss: 0.0160 - mape: 0.0990 - val_loss: 0.0812 - val_mape: 0.2357\n",
            "Epoch 101/200\n",
            "481/481 [==============================] - 2s 3ms/step - loss: 0.0159 - mape: 0.0987 - val_loss: 0.0812 - val_mape: 0.2358\n",
            "Epoch 102/200\n",
            "481/481 [==============================] - 2s 3ms/step - loss: 0.0158 - mape: 0.0985 - val_loss: 0.0812 - val_mape: 0.2359\n",
            "Epoch 103/200\n",
            "481/481 [==============================] - 2s 3ms/step - loss: 0.0158 - mape: 0.0982 - val_loss: 0.0812 - val_mape: 0.2359\n",
            "Epoch 104/200\n",
            "481/481 [==============================] - 2s 4ms/step - loss: 0.0157 - mape: 0.0980 - val_loss: 0.0811 - val_mape: 0.2357\n",
            "Epoch 105/200\n",
            "481/481 [==============================] - 3s 6ms/step - loss: 0.0156 - mape: 0.0977 - val_loss: 0.0810 - val_mape: 0.2355\n",
            "Epoch 106/200\n",
            "481/481 [==============================] - 2s 3ms/step - loss: 0.0156 - mape: 0.0975 - val_loss: 0.0809 - val_mape: 0.2352\n",
            "Epoch 107/200\n",
            "481/481 [==============================] - 2s 3ms/step - loss: 0.0155 - mape: 0.0972 - val_loss: 0.0807 - val_mape: 0.2347\n",
            "Epoch 108/200\n",
            "481/481 [==============================] - 2s 3ms/step - loss: 0.0154 - mape: 0.0970 - val_loss: 0.0805 - val_mape: 0.2342\n",
            "Epoch 109/200\n",
            "481/481 [==============================] - 2s 3ms/step - loss: 0.0154 - mape: 0.0967 - val_loss: 0.0803 - val_mape: 0.2335\n",
            "Epoch 110/200\n",
            "481/481 [==============================] - 2s 4ms/step - loss: 0.0153 - mape: 0.0964 - val_loss: 0.0800 - val_mape: 0.2326\n",
            "Epoch 111/200\n",
            "481/481 [==============================] - 2s 4ms/step - loss: 0.0152 - mape: 0.0961 - val_loss: 0.0797 - val_mape: 0.2316\n",
            "Epoch 112/200\n",
            "481/481 [==============================] - 3s 6ms/step - loss: 0.0151 - mape: 0.0958 - val_loss: 0.0794 - val_mape: 0.2305\n",
            "Epoch 113/200\n",
            "481/481 [==============================] - 2s 4ms/step - loss: 0.0151 - mape: 0.0955 - val_loss: 0.0790 - val_mape: 0.2292\n",
            "Epoch 114/200\n",
            "481/481 [==============================] - 2s 3ms/step - loss: 0.0150 - mape: 0.0952 - val_loss: 0.0786 - val_mape: 0.2278\n",
            "Epoch 115/200\n",
            "481/481 [==============================] - 2s 3ms/step - loss: 0.0149 - mape: 0.0949 - val_loss: 0.0781 - val_mape: 0.2261\n",
            "Epoch 116/200\n",
            "481/481 [==============================] - 2s 3ms/step - loss: 0.0148 - mape: 0.0945 - val_loss: 0.0777 - val_mape: 0.2244\n",
            "Epoch 117/200\n",
            "481/481 [==============================] - 2s 4ms/step - loss: 0.0147 - mape: 0.0942 - val_loss: 0.0772 - val_mape: 0.2224\n",
            "Epoch 118/200\n",
            "481/481 [==============================] - 2s 3ms/step - loss: 0.0146 - mape: 0.0938 - val_loss: 0.0767 - val_mape: 0.2202\n",
            "Epoch 119/200\n",
            "481/481 [==============================] - 3s 6ms/step - loss: 0.0145 - mape: 0.0934 - val_loss: 0.0761 - val_mape: 0.2180\n",
            "Epoch 120/200\n",
            "481/481 [==============================] - 2s 4ms/step - loss: 0.0144 - mape: 0.0930 - val_loss: 0.0756 - val_mape: 0.2156\n",
            "Epoch 121/200\n",
            "481/481 [==============================] - 2s 4ms/step - loss: 0.0143 - mape: 0.0926 - val_loss: 0.0750 - val_mape: 0.2132\n",
            "Epoch 122/200\n",
            "481/481 [==============================] - 2s 4ms/step - loss: 0.0142 - mape: 0.0921 - val_loss: 0.0745 - val_mape: 0.2107\n",
            "Epoch 123/200\n",
            "481/481 [==============================] - 2s 4ms/step - loss: 0.0141 - mape: 0.0916 - val_loss: 0.0741 - val_mape: 0.2081\n",
            "Epoch 124/200\n",
            "481/481 [==============================] - 2s 3ms/step - loss: 0.0140 - mape: 0.0912 - val_loss: 0.0736 - val_mape: 0.2055\n",
            "Epoch 125/200\n",
            "481/481 [==============================] - 2s 3ms/step - loss: 0.0138 - mape: 0.0907 - val_loss: 0.0733 - val_mape: 0.2032\n",
            "Epoch 126/200\n",
            "481/481 [==============================] - 3s 6ms/step - loss: 0.0137 - mape: 0.0903 - val_loss: 0.0732 - val_mape: 0.2016\n",
            "Epoch 127/200\n",
            "481/481 [==============================] - 2s 4ms/step - loss: 0.0136 - mape: 0.0898 - val_loss: 0.0731 - val_mape: 0.2009\n",
            "Epoch 128/200\n",
            "481/481 [==============================] - 2s 4ms/step - loss: 0.0135 - mape: 0.0894 - val_loss: 0.0733 - val_mape: 0.2019\n",
            "Epoch 129/200\n",
            "481/481 [==============================] - 2s 4ms/step - loss: 0.0134 - mape: 0.0890 - val_loss: 0.0737 - val_mape: 0.2050\n",
            "Epoch 130/200\n",
            "481/481 [==============================] - 2s 3ms/step - loss: 0.0133 - mape: 0.0886 - val_loss: 0.0744 - val_mape: 0.2092\n",
            "Epoch 131/200\n",
            "481/481 [==============================] - 2s 3ms/step - loss: 0.0132 - mape: 0.0882 - val_loss: 0.0754 - val_mape: 0.2143\n",
            "Epoch 132/200\n",
            "481/481 [==============================] - 2s 4ms/step - loss: 0.0131 - mape: 0.0879 - val_loss: 0.0766 - val_mape: 0.2200\n",
            "Epoch 133/200\n",
            "481/481 [==============================] - 3s 5ms/step - loss: 0.0130 - mape: 0.0876 - val_loss: 0.0780 - val_mape: 0.2263\n",
            "Epoch 134/200\n",
            "481/481 [==============================] - 2s 4ms/step - loss: 0.0129 - mape: 0.0873 - val_loss: 0.0795 - val_mape: 0.2330\n",
            "Epoch 135/200\n",
            "481/481 [==============================] - 2s 4ms/step - loss: 0.0128 - mape: 0.0871 - val_loss: 0.0812 - val_mape: 0.2398\n",
            "Epoch 136/200\n",
            "481/481 [==============================] - 2s 3ms/step - loss: 0.0128 - mape: 0.0870 - val_loss: 0.0828 - val_mape: 0.2461\n",
            "Epoch 137/200\n",
            "481/481 [==============================] - 2s 4ms/step - loss: 0.0127 - mape: 0.0868 - val_loss: 0.0843 - val_mape: 0.2516\n",
            "Epoch 138/200\n",
            "481/481 [==============================] - 2s 4ms/step - loss: 0.0126 - mape: 0.0867 - val_loss: 0.0855 - val_mape: 0.2562\n",
            "Epoch 139/200\n",
            "481/481 [==============================] - 2s 4ms/step - loss: 0.0126 - mape: 0.0865 - val_loss: 0.0866 - val_mape: 0.2596\n",
            "Epoch 140/200\n",
            "481/481 [==============================] - 2s 5ms/step - loss: 0.0126 - mape: 0.0864 - val_loss: 0.0872 - val_mape: 0.2619\n",
            "Epoch 141/200\n",
            "481/481 [==============================] - 2s 4ms/step - loss: 0.0125 - mape: 0.0862 - val_loss: 0.0876 - val_mape: 0.2630\n",
            "Epoch 142/200\n",
            "481/481 [==============================] - 2s 4ms/step - loss: 0.0125 - mape: 0.0861 - val_loss: 0.0876 - val_mape: 0.2631\n",
            "Epoch 143/200\n",
            "481/481 [==============================] - 2s 4ms/step - loss: 0.0124 - mape: 0.0859 - val_loss: 0.0873 - val_mape: 0.2621\n",
            "Epoch 144/200\n",
            "481/481 [==============================] - 2s 3ms/step - loss: 0.0124 - mape: 0.0858 - val_loss: 0.0868 - val_mape: 0.2604\n",
            "Epoch 145/200\n",
            "481/481 [==============================] - 2s 4ms/step - loss: 0.0124 - mape: 0.0857 - val_loss: 0.0860 - val_mape: 0.2579\n",
            "Epoch 146/200\n",
            "481/481 [==============================] - 2s 5ms/step - loss: 0.0124 - mape: 0.0855 - val_loss: 0.0852 - val_mape: 0.2550\n",
            "Epoch 147/200\n",
            "481/481 [==============================] - 2s 5ms/step - loss: 0.0124 - mape: 0.0854 - val_loss: 0.0842 - val_mape: 0.2517\n",
            "Epoch 148/200\n",
            "481/481 [==============================] - 2s 4ms/step - loss: 0.0123 - mape: 0.0853 - val_loss: 0.0833 - val_mape: 0.2482\n",
            "Epoch 149/200\n",
            "481/481 [==============================] - 2s 4ms/step - loss: 0.0123 - mape: 0.0852 - val_loss: 0.0823 - val_mape: 0.2447\n",
            "Epoch 150/200\n",
            "481/481 [==============================] - 2s 3ms/step - loss: 0.0123 - mape: 0.0851 - val_loss: 0.0814 - val_mape: 0.2412\n",
            "Epoch 151/200\n",
            "481/481 [==============================] - 2s 3ms/step - loss: 0.0123 - mape: 0.0850 - val_loss: 0.0806 - val_mape: 0.2379\n",
            "Epoch 152/200\n",
            "481/481 [==============================] - 2s 4ms/step - loss: 0.0123 - mape: 0.0849 - val_loss: 0.0798 - val_mape: 0.2348\n",
            "Epoch 153/200\n",
            "481/481 [==============================] - 2s 5ms/step - loss: 0.0123 - mape: 0.0848 - val_loss: 0.0791 - val_mape: 0.2320\n",
            "Epoch 154/200\n",
            "481/481 [==============================] - 2s 5ms/step - loss: 0.0123 - mape: 0.0847 - val_loss: 0.0785 - val_mape: 0.2294\n",
            "Epoch 155/200\n",
            "481/481 [==============================] - 2s 3ms/step - loss: 0.0123 - mape: 0.0846 - val_loss: 0.0780 - val_mape: 0.2272\n",
            "Epoch 156/200\n",
            "481/481 [==============================] - 2s 4ms/step - loss: 0.0123 - mape: 0.0845 - val_loss: 0.0776 - val_mape: 0.2252\n",
            "Epoch 157/200\n",
            "481/481 [==============================] - 2s 3ms/step - loss: 0.0122 - mape: 0.0844 - val_loss: 0.0772 - val_mape: 0.2236\n",
            "Epoch 158/200\n",
            "481/481 [==============================] - 2s 4ms/step - loss: 0.0122 - mape: 0.0844 - val_loss: 0.0768 - val_mape: 0.2221\n",
            "Epoch 159/200\n",
            "481/481 [==============================] - 2s 4ms/step - loss: 0.0122 - mape: 0.0843 - val_loss: 0.0765 - val_mape: 0.2208\n",
            "Epoch 160/200\n",
            "481/481 [==============================] - 2s 5ms/step - loss: 0.0122 - mape: 0.0842 - val_loss: 0.0762 - val_mape: 0.2196\n",
            "Epoch 161/200\n",
            "481/481 [==============================] - 2s 5ms/step - loss: 0.0122 - mape: 0.0842 - val_loss: 0.0760 - val_mape: 0.2186\n",
            "Epoch 162/200\n",
            "481/481 [==============================] - 2s 4ms/step - loss: 0.0122 - mape: 0.0841 - val_loss: 0.0757 - val_mape: 0.2176\n",
            "Epoch 163/200\n",
            "481/481 [==============================] - 2s 3ms/step - loss: 0.0122 - mape: 0.0841 - val_loss: 0.0755 - val_mape: 0.2167\n",
            "Epoch 164/200\n",
            "481/481 [==============================] - 2s 3ms/step - loss: 0.0122 - mape: 0.0840 - val_loss: 0.0753 - val_mape: 0.2159\n",
            "Epoch 165/200\n",
            "481/481 [==============================] - 2s 3ms/step - loss: 0.0122 - mape: 0.0840 - val_loss: 0.0752 - val_mape: 0.2151\n",
            "Epoch 166/200\n",
            "481/481 [==============================] - 2s 4ms/step - loss: 0.0122 - mape: 0.0839 - val_loss: 0.0750 - val_mape: 0.2144\n",
            "Epoch 167/200\n",
            "481/481 [==============================] - 3s 5ms/step - loss: 0.0122 - mape: 0.0839 - val_loss: 0.0748 - val_mape: 0.2137\n",
            "Epoch 168/200\n",
            "481/481 [==============================] - 2s 4ms/step - loss: 0.0121 - mape: 0.0838 - val_loss: 0.0747 - val_mape: 0.2131\n",
            "Epoch 169/200\n",
            "481/481 [==============================] - 2s 4ms/step - loss: 0.0121 - mape: 0.0838 - val_loss: 0.0746 - val_mape: 0.2125\n",
            "Epoch 170/200\n",
            "481/481 [==============================] - 2s 4ms/step - loss: 0.0121 - mape: 0.0837 - val_loss: 0.0744 - val_mape: 0.2118\n",
            "Epoch 171/200\n",
            "481/481 [==============================] - 2s 4ms/step - loss: 0.0121 - mape: 0.0837 - val_loss: 0.0743 - val_mape: 0.2112\n",
            "Epoch 172/200\n",
            "481/481 [==============================] - 2s 4ms/step - loss: 0.0121 - mape: 0.0837 - val_loss: 0.0742 - val_mape: 0.2107\n",
            "Epoch 173/200\n",
            "481/481 [==============================] - 2s 3ms/step - loss: 0.0121 - mape: 0.0836 - val_loss: 0.0740 - val_mape: 0.2101\n",
            "Epoch 174/200\n",
            "481/481 [==============================] - 3s 5ms/step - loss: 0.0121 - mape: 0.0836 - val_loss: 0.0739 - val_mape: 0.2096\n",
            "Epoch 175/200\n",
            "481/481 [==============================] - 2s 4ms/step - loss: 0.0121 - mape: 0.0836 - val_loss: 0.0738 - val_mape: 0.2091\n",
            "Epoch 176/200\n",
            "481/481 [==============================] - 2s 4ms/step - loss: 0.0121 - mape: 0.0835 - val_loss: 0.0737 - val_mape: 0.2086\n",
            "Epoch 177/200\n",
            "481/481 [==============================] - 2s 4ms/step - loss: 0.0121 - mape: 0.0835 - val_loss: 0.0736 - val_mape: 0.2082\n",
            "Epoch 178/200\n",
            "481/481 [==============================] - 2s 4ms/step - loss: 0.0121 - mape: 0.0835 - val_loss: 0.0735 - val_mape: 0.2078\n",
            "Epoch 179/200\n",
            "481/481 [==============================] - 2s 4ms/step - loss: 0.0121 - mape: 0.0835 - val_loss: 0.0734 - val_mape: 0.2073\n",
            "Epoch 180/200\n",
            "481/481 [==============================] - 2s 4ms/step - loss: 0.0121 - mape: 0.0834 - val_loss: 0.0733 - val_mape: 0.2068\n",
            "Epoch 181/200\n",
            "481/481 [==============================] - 3s 6ms/step - loss: 0.0121 - mape: 0.0834 - val_loss: 0.0732 - val_mape: 0.2063\n",
            "Epoch 182/200\n",
            "481/481 [==============================] - 2s 4ms/step - loss: 0.0121 - mape: 0.0834 - val_loss: 0.0731 - val_mape: 0.2059\n",
            "Epoch 183/200\n",
            "481/481 [==============================] - 2s 4ms/step - loss: 0.0121 - mape: 0.0833 - val_loss: 0.0730 - val_mape: 0.2054\n",
            "Epoch 184/200\n",
            "481/481 [==============================] - 2s 4ms/step - loss: 0.0121 - mape: 0.0833 - val_loss: 0.0729 - val_mape: 0.2049\n",
            "Epoch 185/200\n",
            "481/481 [==============================] - 2s 4ms/step - loss: 0.0121 - mape: 0.0833 - val_loss: 0.0728 - val_mape: 0.2044\n",
            "Epoch 186/200\n",
            "481/481 [==============================] - 2s 3ms/step - loss: 0.0121 - mape: 0.0833 - val_loss: 0.0727 - val_mape: 0.2038\n",
            "Epoch 187/200\n",
            "481/481 [==============================] - 2s 4ms/step - loss: 0.0120 - mape: 0.0832 - val_loss: 0.0726 - val_mape: 0.2033\n",
            "Epoch 188/200\n",
            "481/481 [==============================] - 3s 5ms/step - loss: 0.0120 - mape: 0.0832 - val_loss: 0.0725 - val_mape: 0.2028\n",
            "Epoch 189/200\n",
            "481/481 [==============================] - 2s 4ms/step - loss: 0.0120 - mape: 0.0832 - val_loss: 0.0724 - val_mape: 0.2023\n",
            "Epoch 190/200\n",
            "481/481 [==============================] - 2s 3ms/step - loss: 0.0120 - mape: 0.0832 - val_loss: 0.0723 - val_mape: 0.2018\n",
            "Epoch 191/200\n",
            "481/481 [==============================] - 2s 4ms/step - loss: 0.0120 - mape: 0.0831 - val_loss: 0.0722 - val_mape: 0.2013\n",
            "Epoch 192/200\n",
            "481/481 [==============================] - 2s 4ms/step - loss: 0.0120 - mape: 0.0831 - val_loss: 0.0721 - val_mape: 0.2009\n",
            "Epoch 193/200\n",
            "481/481 [==============================] - 2s 4ms/step - loss: 0.0120 - mape: 0.0831 - val_loss: 0.0720 - val_mape: 0.2004\n",
            "Epoch 194/200\n",
            "481/481 [==============================] - 2s 5ms/step - loss: 0.0120 - mape: 0.0831 - val_loss: 0.0720 - val_mape: 0.2000\n",
            "Epoch 195/200\n",
            "481/481 [==============================] - 2s 5ms/step - loss: 0.0120 - mape: 0.0830 - val_loss: 0.0719 - val_mape: 0.1996\n",
            "Epoch 196/200\n",
            "481/481 [==============================] - 2s 4ms/step - loss: 0.0120 - mape: 0.0830 - val_loss: 0.0718 - val_mape: 0.1991\n",
            "Epoch 197/200\n",
            "481/481 [==============================] - 2s 4ms/step - loss: 0.0120 - mape: 0.0830 - val_loss: 0.0717 - val_mape: 0.1987\n",
            "Epoch 198/200\n",
            "481/481 [==============================] - 2s 4ms/step - loss: 0.0120 - mape: 0.0830 - val_loss: 0.0717 - val_mape: 0.1984\n",
            "Epoch 199/200\n",
            "481/481 [==============================] - 2s 4ms/step - loss: 0.0120 - mape: 0.0829 - val_loss: 0.0716 - val_mape: 0.1980\n",
            "Epoch 200/200\n",
            "481/481 [==============================] - 2s 4ms/step - loss: 0.0120 - mape: 0.0829 - val_loss: 0.0715 - val_mape: 0.1977\n"
          ]
        },
        {
          "output_type": "display_data",
          "data": {
            "text/plain": [
              "VBox(children=(Label(value='0.001 MB of 0.001 MB uploaded\\r'), FloatProgress(value=1.0, max=1.0)))"
            ],
            "application/vnd.jupyter.widget-view+json": {
              "version_major": 2,
              "version_minor": 0,
              "model_id": "9964642f00164c798240b93ef11c6884"
            }
          },
          "metadata": {}
        },
        {
          "output_type": "display_data",
          "data": {
            "text/plain": [
              "<IPython.core.display.HTML object>"
            ],
            "text/html": [
              "<style>\n",
              "    table.wandb td:nth-child(1) { padding: 0 10px; text-align: left ; width: auto;} td:nth-child(2) {text-align: left ; width: 100%}\n",
              "    .wandb-row { display: flex; flex-direction: row; flex-wrap: wrap; justify-content: flex-start; width: 100% }\n",
              "    .wandb-col { display: flex; flex-direction: column; flex-basis: 100%; flex: 1; padding: 10px; }\n",
              "    </style>\n",
              "<div class=\"wandb-row\"><div class=\"wandb-col\"><h3>Run history:</h3><br/><table class=\"wandb\"><tr><td>epoch/epoch</td><td>▁▁▁▁▂▂▂▂▂▃▃▃▃▃▃▄▄▄▄▄▅▅▅▅▅▅▆▆▆▆▆▇▇▇▇▇▇███</td></tr><tr><td>epoch/learning_rate</td><td>▁▁▁▁▁▁▁▁▁▁▁▁▁▁▁▁▁▁▁▁▁▁▁▁▁▁▁▁▁▁▁▁▁▁▁▁▁▁▁▁</td></tr><tr><td>epoch/loss</td><td>█▁▁▁▁▁▁▁▁▁▁▁▁▁▁▁▁▁▁▁▁▁▁▁▁▁▁▁▁▁▁▁▁▁▁▁▁▁▁▁</td></tr><tr><td>epoch/mape</td><td>█▂▁▁▁▁▁▁▁▁▁▁▁▁▁▁▁▁▁▁▁▁▁▁▁▁▁▁▁▁▁▁▁▁▁▁▁▁▁▁</td></tr><tr><td>epoch/val_loss</td><td>█▂▁▁▁▁▁▁▁▁▁▁▁▁▁▁▁▁▁▁▁▁▁▁▁▁▁▁▁▁▁▁▁▁▁▁▁▁▁▁</td></tr><tr><td>epoch/val_mape</td><td>█▃▂▁▁▁▁▁▁▁▁▁▁▁▁▁▁▁▁▁▁▁▁▁▁▁▁▁▁▁▁▁▁▁▁▁▁▁▁▁</td></tr></table><br/></div><div class=\"wandb-col\"><h3>Run summary:</h3><br/><table class=\"wandb\"><tr><td>epoch/epoch</td><td>199</td></tr><tr><td>epoch/learning_rate</td><td>0.001</td></tr><tr><td>epoch/loss</td><td>0.012</td></tr><tr><td>epoch/mape</td><td>0.0829</td></tr><tr><td>epoch/val_loss</td><td>0.07154</td></tr><tr><td>epoch/val_mape</td><td>0.19769</td></tr></table><br/></div></div>"
            ]
          },
          "metadata": {}
        },
        {
          "output_type": "display_data",
          "data": {
            "text/plain": [
              "<IPython.core.display.HTML object>"
            ],
            "text/html": [
              " View run <strong style=\"color:#cdcd00\">model LSTM on stock data MSN.csv</strong> at: <a href='https://wandb.ai/nguyentienthong2125/Finpros/runs/a1cbiuwi' target=\"_blank\">https://wandb.ai/nguyentienthong2125/Finpros/runs/a1cbiuwi</a><br/>Synced 5 W&B file(s), 0 media file(s), 0 artifact file(s) and 0 other file(s)"
            ]
          },
          "metadata": {}
        },
        {
          "output_type": "display_data",
          "data": {
            "text/plain": [
              "<IPython.core.display.HTML object>"
            ],
            "text/html": [
              "Find logs at: <code>./wandb/run-20240307_045428-a1cbiuwi/logs</code>"
            ]
          },
          "metadata": {}
        }
      ]
    },
    {
      "cell_type": "markdown",
      "source": [
        "#V. Prediction\n"
      ],
      "metadata": {
        "id": "2ElthCj-yAlJ"
      }
    },
    {
      "cell_type": "code",
      "source": [
        "y_pred= lstm.predict(X_test)"
      ],
      "metadata": {
        "colab": {
          "base_uri": "https://localhost:8080/"
        },
        "id": "Obn6r__ryCwd",
        "outputId": "14d41599-c404-4942-82ca-4d9f46549992"
      },
      "execution_count": 17,
      "outputs": [
        {
          "output_type": "stream",
          "name": "stdout",
          "text": [
            "385/385 [==============================] - 1s 2ms/step\n"
          ]
        }
      ]
    },
    {
      "cell_type": "code",
      "source": [
        "plt.figure(figsize=(20,8))\n",
        "plt.plot(y_test, label='True Value')\n",
        "plt.plot(y_pred, label='LSTM Value')\n",
        "plt.title('Prediction by LSTM')\n",
        "plt.xlabel('Time Scale')\n",
        "plt.ylabel('Scaled vnd')\n",
        "plt.legend()\n",
        "plt.show()"
      ],
      "metadata": {
        "colab": {
          "base_uri": "https://localhost:8080/",
          "height": 650
        },
        "id": "k90wG52izlk2",
        "outputId": "866db2d7-fa06-4a30-a77b-3e9c78158420"
      },
      "execution_count": 18,
      "outputs": [
        {
          "output_type": "display_data",
          "data": {
            "text/plain": [
              "<Figure size 2000x800 with 1 Axes>"
            ],
            "image/png": "[encoded data removed]"
          },
          "metadata": {}
        }
      ]
    }
  ]
}